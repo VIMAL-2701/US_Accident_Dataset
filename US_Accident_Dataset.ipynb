{
 "cells": [
  {
   "cell_type": "markdown",
   "metadata": {
    "id": "eNek_xu4Erb4"
   },
   "source": [
    "# US Accident Datasets\n",
    " This is a countrywide car accident dataset, which covers 49 states of the USA. The accident data are collected from February 2016 to Dec 2021. Currently, there are about 2.8 million accident records in this dataset."
   ]
  },
  {
   "cell_type": "markdown",
   "metadata": {
    "id": "Wrkh-R6rcEBO"
   },
   "source": [
    "![01.png](data:image/png;base64,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)"
   ]
  },
  {
   "cell_type": "code",
   "execution_count": 3,
   "metadata": {
    "executionInfo": {
     "elapsed": 3933,
     "status": "ok",
     "timestamp": 1667239576440,
     "user": {
      "displayName": "Vimal V",
      "userId": "00084171580944688305"
     },
     "user_tz": -330
    },
    "id": "v-IXV_9dErcA"
   },
   "outputs": [],
   "source": [
    "!pip install jovian --upgrade --quiet"
   ]
  },
  {
   "cell_type": "code",
   "execution_count": 4,
   "metadata": {
    "executionInfo": {
     "elapsed": 15,
     "status": "ok",
     "timestamp": 1667239578053,
     "user": {
      "displayName": "Vimal V",
      "userId": "00084171580944688305"
     },
     "user_tz": -330
    },
    "id": "Z2qsFi8ZErcJ"
   },
   "outputs": [],
   "source": [
    "import jovian"
   ]
  },
  {
   "cell_type": "code",
   "execution_count": 5,
   "metadata": {
    "executionInfo": {
     "elapsed": 6244,
     "status": "ok",
     "timestamp": 1667239590661,
     "user": {
      "displayName": "Vimal V",
      "userId": "00084171580944688305"
     },
     "user_tz": -330
    },
    "id": "AxMCF2NGErcL"
   },
   "outputs": [],
   "source": [
    "!pip install opendatasets --upgrade --quiet"
   ]
  },
  {
   "cell_type": "markdown",
   "metadata": {
    "id": "eVVBEjzN3-cz"
   },
   "source": [
    "Since the dataset used here is of big size, let us import the dataset directly from the website."
   ]
  },
  {
   "cell_type": "code",
   "execution_count": 8,
   "metadata": {
    "colab": {
     "base_uri": "https://localhost:8080/"
    },
    "executionInfo": {
     "elapsed": 523,
     "status": "ok",
     "timestamp": 1667239635255,
     "user": {
      "displayName": "Vimal V",
      "userId": "00084171580944688305"
     },
     "user_tz": -330
    },
    "id": "GuxkghdRErcO",
    "outputId": "85061ad7-96da-4b1e-94f3-7b1e51728da4"
   },
   "outputs": [
    {
     "name": "stdout",
     "output_type": "stream",
     "text": [
      "Skipping, found downloaded files in \"./us-accidents\" (use force=True to force download)\n"
     ]
    }
   ],
   "source": [
    "import opendatasets as od \n",
    "\n",
    "download_url = 'https://www.kaggle.com/datasets/sobhanmoosavi/us-accidents'\n",
    "\n",
    "od.download(download_url)"
   ]
  },
  {
   "cell_type": "code",
   "execution_count": 7,
   "metadata": {
    "executionInfo": {
     "elapsed": 440,
     "status": "ok",
     "timestamp": 1667239603265,
     "user": {
      "displayName": "Vimal V",
      "userId": "00084171580944688305"
     },
     "user_tz": -330
    },
    "id": "907MIGpKGO_k"
   },
   "outputs": [],
   "source": [
    "data_filename ='./us-accidents/US_Accidents_Dec21_updated.csv'"
   ]
  },
  {
   "cell_type": "markdown",
   "metadata": {
    "id": "M3G7e_EFJNnF"
   },
   "source": [
    "Firstly, Let us import the Dataset "
   ]
  },
  {
   "cell_type": "code",
   "execution_count": 9,
   "metadata": {
    "executionInfo": {
     "elapsed": 1967,
     "status": "ok",
     "timestamp": 1667239642015,
     "user": {
      "displayName": "Vimal V",
      "userId": "00084171580944688305"
     },
     "user_tz": -330
    },
    "id": "fhSv1lAaGqJx"
   },
   "outputs": [],
   "source": [
    "import pandas as pd"
   ]
  },
  {
   "cell_type": "code",
   "execution_count": 10,
   "metadata": {
    "executionInfo": {
     "elapsed": 34412,
     "status": "ok",
     "timestamp": 1667239678867,
     "user": {
      "displayName": "Vimal V",
      "userId": "00084171580944688305"
     },
     "user_tz": -330
    },
    "id": "rKgryXBgGqNB"
   },
   "outputs": [],
   "source": [
    "df = pd.read_csv(data_filename)"
   ]
  },
  {
   "cell_type": "code",
   "execution_count": 11,
   "metadata": {
    "colab": {
     "base_uri": "https://localhost:8080/",
     "height": 323
    },
    "executionInfo": {
     "elapsed": 510,
     "status": "ok",
     "timestamp": 1667239694331,
     "user": {
      "displayName": "Vimal V",
      "userId": "00084171580944688305"
     },
     "user_tz": -330
    },
    "id": "AdkcuJO4KT5b",
    "outputId": "098d752d-2d70-493f-db78-8d8350512dcc"
   },
   "outputs": [
    {
     "data": {
      "text/html": [
       "\n",
       "  <div id=\"df-ce1b2741-d9bb-449b-9873-05036397e980\">\n",
       "    <div class=\"colab-df-container\">\n",
       "      <div>\n",
       "<style scoped>\n",
       "    .dataframe tbody tr th:only-of-type {\n",
       "        vertical-align: middle;\n",
       "    }\n",
       "\n",
       "    .dataframe tbody tr th {\n",
       "        vertical-align: top;\n",
       "    }\n",
       "\n",
       "    .dataframe thead th {\n",
       "        text-align: right;\n",
       "    }\n",
       "</style>\n",
       "<table border=\"1\" class=\"dataframe\">\n",
       "  <thead>\n",
       "    <tr style=\"text-align: right;\">\n",
       "      <th></th>\n",
       "      <th>ID</th>\n",
       "      <th>Severity</th>\n",
       "      <th>Start_Time</th>\n",
       "      <th>End_Time</th>\n",
       "      <th>Start_Lat</th>\n",
       "      <th>Start_Lng</th>\n",
       "      <th>End_Lat</th>\n",
       "      <th>End_Lng</th>\n",
       "      <th>Distance(mi)</th>\n",
       "      <th>Description</th>\n",
       "      <th>...</th>\n",
       "      <th>Roundabout</th>\n",
       "      <th>Station</th>\n",
       "      <th>Stop</th>\n",
       "      <th>Traffic_Calming</th>\n",
       "      <th>Traffic_Signal</th>\n",
       "      <th>Turning_Loop</th>\n",
       "      <th>Sunrise_Sunset</th>\n",
       "      <th>Civil_Twilight</th>\n",
       "      <th>Nautical_Twilight</th>\n",
       "      <th>Astronomical_Twilight</th>\n",
       "    </tr>\n",
       "  </thead>\n",
       "  <tbody>\n",
       "    <tr>\n",
       "      <th>0</th>\n",
       "      <td>A-1</td>\n",
       "      <td>3</td>\n",
       "      <td>2016-02-08 00:37:08</td>\n",
       "      <td>2016-02-08 06:37:08</td>\n",
       "      <td>40.10891</td>\n",
       "      <td>-83.09286</td>\n",
       "      <td>40.11206</td>\n",
       "      <td>-83.03187</td>\n",
       "      <td>3.230</td>\n",
       "      <td>Between Sawmill Rd/Exit 20 and OH-315/Olentang...</td>\n",
       "      <td>...</td>\n",
       "      <td>False</td>\n",
       "      <td>False</td>\n",
       "      <td>False</td>\n",
       "      <td>False</td>\n",
       "      <td>False</td>\n",
       "      <td>False</td>\n",
       "      <td>Night</td>\n",
       "      <td>Night</td>\n",
       "      <td>Night</td>\n",
       "      <td>Night</td>\n",
       "    </tr>\n",
       "    <tr>\n",
       "      <th>1</th>\n",
       "      <td>A-2</td>\n",
       "      <td>2</td>\n",
       "      <td>2016-02-08 05:56:20</td>\n",
       "      <td>2016-02-08 11:56:20</td>\n",
       "      <td>39.86542</td>\n",
       "      <td>-84.06280</td>\n",
       "      <td>39.86501</td>\n",
       "      <td>-84.04873</td>\n",
       "      <td>0.747</td>\n",
       "      <td>At OH-4/OH-235/Exit 41 - Accident.</td>\n",
       "      <td>...</td>\n",
       "      <td>False</td>\n",
       "      <td>False</td>\n",
       "      <td>False</td>\n",
       "      <td>False</td>\n",
       "      <td>False</td>\n",
       "      <td>False</td>\n",
       "      <td>Night</td>\n",
       "      <td>Night</td>\n",
       "      <td>Night</td>\n",
       "      <td>Night</td>\n",
       "    </tr>\n",
       "    <tr>\n",
       "      <th>2</th>\n",
       "      <td>A-3</td>\n",
       "      <td>2</td>\n",
       "      <td>2016-02-08 06:15:39</td>\n",
       "      <td>2016-02-08 12:15:39</td>\n",
       "      <td>39.10266</td>\n",
       "      <td>-84.52468</td>\n",
       "      <td>39.10209</td>\n",
       "      <td>-84.52396</td>\n",
       "      <td>0.055</td>\n",
       "      <td>At I-71/US-50/Exit 1 - Accident.</td>\n",
       "      <td>...</td>\n",
       "      <td>False</td>\n",
       "      <td>False</td>\n",
       "      <td>False</td>\n",
       "      <td>False</td>\n",
       "      <td>False</td>\n",
       "      <td>False</td>\n",
       "      <td>Night</td>\n",
       "      <td>Night</td>\n",
       "      <td>Night</td>\n",
       "      <td>Day</td>\n",
       "    </tr>\n",
       "  </tbody>\n",
       "</table>\n",
       "<p>3 rows × 47 columns</p>\n",
       "</div>\n",
       "      <button class=\"colab-df-convert\" onclick=\"convertToInteractive('df-ce1b2741-d9bb-449b-9873-05036397e980')\"\n",
       "              title=\"Convert this dataframe to an interactive table.\"\n",
       "              style=\"display:none;\">\n",
       "        \n",
       "  <svg xmlns=\"http://www.w3.org/2000/svg\" height=\"24px\"viewBox=\"0 0 24 24\"\n",
       "       width=\"24px\">\n",
       "    <path d=\"M0 0h24v24H0V0z\" fill=\"none\"/>\n",
       "    <path d=\"M18.56 5.44l.94 2.06.94-2.06 2.06-.94-2.06-.94-.94-2.06-.94 2.06-2.06.94zm-11 1L8.5 8.5l.94-2.06 2.06-.94-2.06-.94L8.5 2.5l-.94 2.06-2.06.94zm10 10l.94 2.06.94-2.06 2.06-.94-2.06-.94-.94-2.06-.94 2.06-2.06.94z\"/><path d=\"M17.41 7.96l-1.37-1.37c-.4-.4-.92-.59-1.43-.59-.52 0-1.04.2-1.43.59L10.3 9.45l-7.72 7.72c-.78.78-.78 2.05 0 2.83L4 21.41c.39.39.9.59 1.41.59.51 0 1.02-.2 1.41-.59l7.78-7.78 2.81-2.81c.8-.78.8-2.07 0-2.86zM5.41 20L4 18.59l7.72-7.72 1.47 1.35L5.41 20z\"/>\n",
       "  </svg>\n",
       "      </button>\n",
       "      \n",
       "  <style>\n",
       "    .colab-df-container {\n",
       "      display:flex;\n",
       "      flex-wrap:wrap;\n",
       "      gap: 12px;\n",
       "    }\n",
       "\n",
       "    .colab-df-convert {\n",
       "      background-color: #E8F0FE;\n",
       "      border: none;\n",
       "      border-radius: 50%;\n",
       "      cursor: pointer;\n",
       "      display: none;\n",
       "      fill: #1967D2;\n",
       "      height: 32px;\n",
       "      padding: 0 0 0 0;\n",
       "      width: 32px;\n",
       "    }\n",
       "\n",
       "    .colab-df-convert:hover {\n",
       "      background-color: #E2EBFA;\n",
       "      box-shadow: 0px 1px 2px rgba(60, 64, 67, 0.3), 0px 1px 3px 1px rgba(60, 64, 67, 0.15);\n",
       "      fill: #174EA6;\n",
       "    }\n",
       "\n",
       "    [theme=dark] .colab-df-convert {\n",
       "      background-color: #3B4455;\n",
       "      fill: #D2E3FC;\n",
       "    }\n",
       "\n",
       "    [theme=dark] .colab-df-convert:hover {\n",
       "      background-color: #434B5C;\n",
       "      box-shadow: 0px 1px 3px 1px rgba(0, 0, 0, 0.15);\n",
       "      filter: drop-shadow(0px 1px 2px rgba(0, 0, 0, 0.3));\n",
       "      fill: #FFFFFF;\n",
       "    }\n",
       "  </style>\n",
       "\n",
       "      <script>\n",
       "        const buttonEl =\n",
       "          document.querySelector('#df-ce1b2741-d9bb-449b-9873-05036397e980 button.colab-df-convert');\n",
       "        buttonEl.style.display =\n",
       "          google.colab.kernel.accessAllowed ? 'block' : 'none';\n",
       "\n",
       "        async function convertToInteractive(key) {\n",
       "          const element = document.querySelector('#df-ce1b2741-d9bb-449b-9873-05036397e980');\n",
       "          const dataTable =\n",
       "            await google.colab.kernel.invokeFunction('convertToInteractive',\n",
       "                                                     [key], {});\n",
       "          if (!dataTable) return;\n",
       "\n",
       "          const docLinkHtml = 'Like what you see? Visit the ' +\n",
       "            '<a target=\"_blank\" href=https://colab.research.google.com/notebooks/data_table.ipynb>data table notebook</a>'\n",
       "            + ' to learn more about interactive tables.';\n",
       "          element.innerHTML = '';\n",
       "          dataTable['output_type'] = 'display_data';\n",
       "          await google.colab.output.renderOutput(dataTable, element);\n",
       "          const docLink = document.createElement('div');\n",
       "          docLink.innerHTML = docLinkHtml;\n",
       "          element.appendChild(docLink);\n",
       "        }\n",
       "      </script>\n",
       "    </div>\n",
       "  </div>\n",
       "  "
      ],
      "text/plain": [
       "    ID  Severity           Start_Time             End_Time  Start_Lat  \\\n",
       "0  A-1         3  2016-02-08 00:37:08  2016-02-08 06:37:08   40.10891   \n",
       "1  A-2         2  2016-02-08 05:56:20  2016-02-08 11:56:20   39.86542   \n",
       "2  A-3         2  2016-02-08 06:15:39  2016-02-08 12:15:39   39.10266   \n",
       "\n",
       "   Start_Lng   End_Lat   End_Lng  Distance(mi)  \\\n",
       "0  -83.09286  40.11206 -83.03187         3.230   \n",
       "1  -84.06280  39.86501 -84.04873         0.747   \n",
       "2  -84.52468  39.10209 -84.52396         0.055   \n",
       "\n",
       "                                         Description  ...  Roundabout Station  \\\n",
       "0  Between Sawmill Rd/Exit 20 and OH-315/Olentang...  ...       False   False   \n",
       "1                 At OH-4/OH-235/Exit 41 - Accident.  ...       False   False   \n",
       "2                   At I-71/US-50/Exit 1 - Accident.  ...       False   False   \n",
       "\n",
       "    Stop Traffic_Calming Traffic_Signal Turning_Loop Sunrise_Sunset  \\\n",
       "0  False           False          False        False          Night   \n",
       "1  False           False          False        False          Night   \n",
       "2  False           False          False        False          Night   \n",
       "\n",
       "  Civil_Twilight Nautical_Twilight Astronomical_Twilight  \n",
       "0          Night             Night                 Night  \n",
       "1          Night             Night                 Night  \n",
       "2          Night             Night                   Day  \n",
       "\n",
       "[3 rows x 47 columns]"
      ]
     },
     "execution_count": 11,
     "metadata": {},
     "output_type": "execute_result"
    }
   ],
   "source": [
    "df.head(3)"
   ]
  },
  {
   "cell_type": "code",
   "execution_count": 12,
   "metadata": {
    "colab": {
     "base_uri": "https://localhost:8080/"
    },
    "executionInfo": {
     "elapsed": 545,
     "status": "ok",
     "timestamp": 1667239698144,
     "user": {
      "displayName": "Vimal V",
      "userId": "00084171580944688305"
     },
     "user_tz": -330
    },
    "id": "M5RmSM5uGqPx",
    "outputId": "12c031dd-09a4-4d8e-d8dc-ef6df2c0643c"
   },
   "outputs": [
    {
     "data": {
      "text/plain": [
       "(2845342, 47)"
      ]
     },
     "execution_count": 12,
     "metadata": {},
     "output_type": "execute_result"
    }
   ],
   "source": [
    "df.shape"
   ]
  },
  {
   "cell_type": "markdown",
   "metadata": {
    "id": "ed3QyEA14o3m"
   },
   "source": [
    "This dataset contains 28,45,342 rows and 47 columns."
   ]
  },
  {
   "cell_type": "code",
   "execution_count": 13,
   "metadata": {
    "colab": {
     "base_uri": "https://localhost:8080/"
    },
    "executionInfo": {
     "elapsed": 1002,
     "status": "ok",
     "timestamp": 1667239725879,
     "user": {
      "displayName": "Vimal V",
      "userId": "00084171580944688305"
     },
     "user_tz": -330
    },
    "id": "ar8JMGjNGqSg",
    "outputId": "aa33e9cb-4d10-4075-9136-7729e54ee262"
   },
   "outputs": [
    {
     "data": {
      "text/plain": [
       "Index(['ID', 'Severity', 'Start_Time', 'End_Time', 'Start_Lat', 'Start_Lng',\n",
       "       'End_Lat', 'End_Lng', 'Distance(mi)', 'Description', 'Number', 'Street',\n",
       "       'Side', 'City', 'County', 'State', 'Zipcode', 'Country', 'Timezone',\n",
       "       'Airport_Code', 'Weather_Timestamp', 'Temperature(F)', 'Wind_Chill(F)',\n",
       "       'Humidity(%)', 'Pressure(in)', 'Visibility(mi)', 'Wind_Direction',\n",
       "       'Wind_Speed(mph)', 'Precipitation(in)', 'Weather_Condition', 'Amenity',\n",
       "       'Bump', 'Crossing', 'Give_Way', 'Junction', 'No_Exit', 'Railway',\n",
       "       'Roundabout', 'Station', 'Stop', 'Traffic_Calming', 'Traffic_Signal',\n",
       "       'Turning_Loop', 'Sunrise_Sunset', 'Civil_Twilight', 'Nautical_Twilight',\n",
       "       'Astronomical_Twilight'],\n",
       "      dtype='object')"
      ]
     },
     "execution_count": 13,
     "metadata": {},
     "output_type": "execute_result"
    }
   ],
   "source": [
    "df.columns"
   ]
  },
  {
   "cell_type": "code",
   "execution_count": 14,
   "metadata": {
    "colab": {
     "base_uri": "https://localhost:8080/"
    },
    "executionInfo": {
     "elapsed": 619,
     "status": "ok",
     "timestamp": 1667239729256,
     "user": {
      "displayName": "Vimal V",
      "userId": "00084171580944688305"
     },
     "user_tz": -330
    },
    "id": "yCQh7WdUKPMs",
    "outputId": "63574ac7-7e79-4554-961f-3d1d637aef32"
   },
   "outputs": [
    {
     "name": "stdout",
     "output_type": "stream",
     "text": [
      "<class 'pandas.core.frame.DataFrame'>\n",
      "RangeIndex: 2845342 entries, 0 to 2845341\n",
      "Data columns (total 47 columns):\n",
      " #   Column                 Dtype  \n",
      "---  ------                 -----  \n",
      " 0   ID                     object \n",
      " 1   Severity               int64  \n",
      " 2   Start_Time             object \n",
      " 3   End_Time               object \n",
      " 4   Start_Lat              float64\n",
      " 5   Start_Lng              float64\n",
      " 6   End_Lat                float64\n",
      " 7   End_Lng                float64\n",
      " 8   Distance(mi)           float64\n",
      " 9   Description            object \n",
      " 10  Number                 float64\n",
      " 11  Street                 object \n",
      " 12  Side                   object \n",
      " 13  City                   object \n",
      " 14  County                 object \n",
      " 15  State                  object \n",
      " 16  Zipcode                object \n",
      " 17  Country                object \n",
      " 18  Timezone               object \n",
      " 19  Airport_Code           object \n",
      " 20  Weather_Timestamp      object \n",
      " 21  Temperature(F)         float64\n",
      " 22  Wind_Chill(F)          float64\n",
      " 23  Humidity(%)            float64\n",
      " 24  Pressure(in)           float64\n",
      " 25  Visibility(mi)         float64\n",
      " 26  Wind_Direction         object \n",
      " 27  Wind_Speed(mph)        float64\n",
      " 28  Precipitation(in)      float64\n",
      " 29  Weather_Condition      object \n",
      " 30  Amenity                bool   \n",
      " 31  Bump                   bool   \n",
      " 32  Crossing               bool   \n",
      " 33  Give_Way               bool   \n",
      " 34  Junction               bool   \n",
      " 35  No_Exit                bool   \n",
      " 36  Railway                bool   \n",
      " 37  Roundabout             bool   \n",
      " 38  Station                bool   \n",
      " 39  Stop                   bool   \n",
      " 40  Traffic_Calming        bool   \n",
      " 41  Traffic_Signal         bool   \n",
      " 42  Turning_Loop           bool   \n",
      " 43  Sunrise_Sunset         object \n",
      " 44  Civil_Twilight         object \n",
      " 45  Nautical_Twilight      object \n",
      " 46  Astronomical_Twilight  object \n",
      "dtypes: bool(13), float64(13), int64(1), object(20)\n",
      "memory usage: 773.4+ MB\n"
     ]
    }
   ],
   "source": [
    "df.info()"
   ]
  },
  {
   "cell_type": "code",
   "execution_count": 15,
   "metadata": {
    "colab": {
     "base_uri": "https://localhost:8080/",
     "height": 364
    },
    "executionInfo": {
     "elapsed": 3109,
     "status": "ok",
     "timestamp": 1667239783346,
     "user": {
      "displayName": "Vimal V",
      "userId": "00084171580944688305"
     },
     "user_tz": -330
    },
    "id": "gne9UfPfKfK2",
    "outputId": "8f9e255d-062c-4a75-ac2f-a86c8ceaaf53"
   },
   "outputs": [
    {
     "data": {
      "text/html": [
       "\n",
       "  <div id=\"df-a3732a65-64e6-45b5-8e1e-ba1f2d26250b\">\n",
       "    <div class=\"colab-df-container\">\n",
       "      <div>\n",
       "<style scoped>\n",
       "    .dataframe tbody tr th:only-of-type {\n",
       "        vertical-align: middle;\n",
       "    }\n",
       "\n",
       "    .dataframe tbody tr th {\n",
       "        vertical-align: top;\n",
       "    }\n",
       "\n",
       "    .dataframe thead th {\n",
       "        text-align: right;\n",
       "    }\n",
       "</style>\n",
       "<table border=\"1\" class=\"dataframe\">\n",
       "  <thead>\n",
       "    <tr style=\"text-align: right;\">\n",
       "      <th></th>\n",
       "      <th>Severity</th>\n",
       "      <th>Start_Lat</th>\n",
       "      <th>Start_Lng</th>\n",
       "      <th>End_Lat</th>\n",
       "      <th>End_Lng</th>\n",
       "      <th>Distance(mi)</th>\n",
       "      <th>Number</th>\n",
       "      <th>Temperature(F)</th>\n",
       "      <th>Wind_Chill(F)</th>\n",
       "      <th>Humidity(%)</th>\n",
       "      <th>Pressure(in)</th>\n",
       "      <th>Visibility(mi)</th>\n",
       "      <th>Wind_Speed(mph)</th>\n",
       "      <th>Precipitation(in)</th>\n",
       "    </tr>\n",
       "  </thead>\n",
       "  <tbody>\n",
       "    <tr>\n",
       "      <th>count</th>\n",
       "      <td>2.845342e+06</td>\n",
       "      <td>2.845342e+06</td>\n",
       "      <td>2.845342e+06</td>\n",
       "      <td>2.845342e+06</td>\n",
       "      <td>2.845342e+06</td>\n",
       "      <td>2.845342e+06</td>\n",
       "      <td>1.101431e+06</td>\n",
       "      <td>2.776068e+06</td>\n",
       "      <td>2.375699e+06</td>\n",
       "      <td>2.772250e+06</td>\n",
       "      <td>2.786142e+06</td>\n",
       "      <td>2.774796e+06</td>\n",
       "      <td>2.687398e+06</td>\n",
       "      <td>2.295884e+06</td>\n",
       "    </tr>\n",
       "    <tr>\n",
       "      <th>mean</th>\n",
       "      <td>2.137572e+00</td>\n",
       "      <td>3.624520e+01</td>\n",
       "      <td>-9.711463e+01</td>\n",
       "      <td>3.624532e+01</td>\n",
       "      <td>-9.711439e+01</td>\n",
       "      <td>7.026779e-01</td>\n",
       "      <td>8.089408e+03</td>\n",
       "      <td>6.179356e+01</td>\n",
       "      <td>5.965823e+01</td>\n",
       "      <td>6.436545e+01</td>\n",
       "      <td>2.947234e+01</td>\n",
       "      <td>9.099391e+00</td>\n",
       "      <td>7.395044e+00</td>\n",
       "      <td>7.016940e-03</td>\n",
       "    </tr>\n",
       "    <tr>\n",
       "      <th>std</th>\n",
       "      <td>4.787216e-01</td>\n",
       "      <td>5.363797e+00</td>\n",
       "      <td>1.831782e+01</td>\n",
       "      <td>5.363873e+00</td>\n",
       "      <td>1.831763e+01</td>\n",
       "      <td>1.560361e+00</td>\n",
       "      <td>1.836009e+04</td>\n",
       "      <td>1.862263e+01</td>\n",
       "      <td>2.116097e+01</td>\n",
       "      <td>2.287457e+01</td>\n",
       "      <td>1.045286e+00</td>\n",
       "      <td>2.717546e+00</td>\n",
       "      <td>5.527454e+00</td>\n",
       "      <td>9.348831e-02</td>\n",
       "    </tr>\n",
       "    <tr>\n",
       "      <th>min</th>\n",
       "      <td>1.000000e+00</td>\n",
       "      <td>2.456603e+01</td>\n",
       "      <td>-1.245481e+02</td>\n",
       "      <td>2.456601e+01</td>\n",
       "      <td>-1.245457e+02</td>\n",
       "      <td>0.000000e+00</td>\n",
       "      <td>0.000000e+00</td>\n",
       "      <td>-8.900000e+01</td>\n",
       "      <td>-8.900000e+01</td>\n",
       "      <td>1.000000e+00</td>\n",
       "      <td>0.000000e+00</td>\n",
       "      <td>0.000000e+00</td>\n",
       "      <td>0.000000e+00</td>\n",
       "      <td>0.000000e+00</td>\n",
       "    </tr>\n",
       "    <tr>\n",
       "      <th>25%</th>\n",
       "      <td>2.000000e+00</td>\n",
       "      <td>3.344517e+01</td>\n",
       "      <td>-1.180331e+02</td>\n",
       "      <td>3.344628e+01</td>\n",
       "      <td>-1.180333e+02</td>\n",
       "      <td>5.200000e-02</td>\n",
       "      <td>1.270000e+03</td>\n",
       "      <td>5.000000e+01</td>\n",
       "      <td>4.600000e+01</td>\n",
       "      <td>4.800000e+01</td>\n",
       "      <td>2.931000e+01</td>\n",
       "      <td>1.000000e+01</td>\n",
       "      <td>3.500000e+00</td>\n",
       "      <td>0.000000e+00</td>\n",
       "    </tr>\n",
       "    <tr>\n",
       "      <th>50%</th>\n",
       "      <td>2.000000e+00</td>\n",
       "      <td>3.609861e+01</td>\n",
       "      <td>-9.241808e+01</td>\n",
       "      <td>3.609799e+01</td>\n",
       "      <td>-9.241772e+01</td>\n",
       "      <td>2.440000e-01</td>\n",
       "      <td>4.007000e+03</td>\n",
       "      <td>6.400000e+01</td>\n",
       "      <td>6.300000e+01</td>\n",
       "      <td>6.700000e+01</td>\n",
       "      <td>2.982000e+01</td>\n",
       "      <td>1.000000e+01</td>\n",
       "      <td>7.000000e+00</td>\n",
       "      <td>0.000000e+00</td>\n",
       "    </tr>\n",
       "    <tr>\n",
       "      <th>75%</th>\n",
       "      <td>2.000000e+00</td>\n",
       "      <td>4.016024e+01</td>\n",
       "      <td>-8.037243e+01</td>\n",
       "      <td>4.016105e+01</td>\n",
       "      <td>-8.037338e+01</td>\n",
       "      <td>7.640000e-01</td>\n",
       "      <td>9.567000e+03</td>\n",
       "      <td>7.600000e+01</td>\n",
       "      <td>7.600000e+01</td>\n",
       "      <td>8.300000e+01</td>\n",
       "      <td>3.001000e+01</td>\n",
       "      <td>1.000000e+01</td>\n",
       "      <td>1.000000e+01</td>\n",
       "      <td>0.000000e+00</td>\n",
       "    </tr>\n",
       "    <tr>\n",
       "      <th>max</th>\n",
       "      <td>4.000000e+00</td>\n",
       "      <td>4.900058e+01</td>\n",
       "      <td>-6.711317e+01</td>\n",
       "      <td>4.907500e+01</td>\n",
       "      <td>-6.710924e+01</td>\n",
       "      <td>1.551860e+02</td>\n",
       "      <td>9.999997e+06</td>\n",
       "      <td>1.960000e+02</td>\n",
       "      <td>1.960000e+02</td>\n",
       "      <td>1.000000e+02</td>\n",
       "      <td>5.890000e+01</td>\n",
       "      <td>1.400000e+02</td>\n",
       "      <td>1.087000e+03</td>\n",
       "      <td>2.400000e+01</td>\n",
       "    </tr>\n",
       "  </tbody>\n",
       "</table>\n",
       "</div>\n",
       "      <button class=\"colab-df-convert\" onclick=\"convertToInteractive('df-a3732a65-64e6-45b5-8e1e-ba1f2d26250b')\"\n",
       "              title=\"Convert this dataframe to an interactive table.\"\n",
       "              style=\"display:none;\">\n",
       "        \n",
       "  <svg xmlns=\"http://www.w3.org/2000/svg\" height=\"24px\"viewBox=\"0 0 24 24\"\n",
       "       width=\"24px\">\n",
       "    <path d=\"M0 0h24v24H0V0z\" fill=\"none\"/>\n",
       "    <path d=\"M18.56 5.44l.94 2.06.94-2.06 2.06-.94-2.06-.94-.94-2.06-.94 2.06-2.06.94zm-11 1L8.5 8.5l.94-2.06 2.06-.94-2.06-.94L8.5 2.5l-.94 2.06-2.06.94zm10 10l.94 2.06.94-2.06 2.06-.94-2.06-.94-.94-2.06-.94 2.06-2.06.94z\"/><path d=\"M17.41 7.96l-1.37-1.37c-.4-.4-.92-.59-1.43-.59-.52 0-1.04.2-1.43.59L10.3 9.45l-7.72 7.72c-.78.78-.78 2.05 0 2.83L4 21.41c.39.39.9.59 1.41.59.51 0 1.02-.2 1.41-.59l7.78-7.78 2.81-2.81c.8-.78.8-2.07 0-2.86zM5.41 20L4 18.59l7.72-7.72 1.47 1.35L5.41 20z\"/>\n",
       "  </svg>\n",
       "      </button>\n",
       "      \n",
       "  <style>\n",
       "    .colab-df-container {\n",
       "      display:flex;\n",
       "      flex-wrap:wrap;\n",
       "      gap: 12px;\n",
       "    }\n",
       "\n",
       "    .colab-df-convert {\n",
       "      background-color: #E8F0FE;\n",
       "      border: none;\n",
       "      border-radius: 50%;\n",
       "      cursor: pointer;\n",
       "      display: none;\n",
       "      fill: #1967D2;\n",
       "      height: 32px;\n",
       "      padding: 0 0 0 0;\n",
       "      width: 32px;\n",
       "    }\n",
       "\n",
       "    .colab-df-convert:hover {\n",
       "      background-color: #E2EBFA;\n",
       "      box-shadow: 0px 1px 2px rgba(60, 64, 67, 0.3), 0px 1px 3px 1px rgba(60, 64, 67, 0.15);\n",
       "      fill: #174EA6;\n",
       "    }\n",
       "\n",
       "    [theme=dark] .colab-df-convert {\n",
       "      background-color: #3B4455;\n",
       "      fill: #D2E3FC;\n",
       "    }\n",
       "\n",
       "    [theme=dark] .colab-df-convert:hover {\n",
       "      background-color: #434B5C;\n",
       "      box-shadow: 0px 1px 3px 1px rgba(0, 0, 0, 0.15);\n",
       "      filter: drop-shadow(0px 1px 2px rgba(0, 0, 0, 0.3));\n",
       "      fill: #FFFFFF;\n",
       "    }\n",
       "  </style>\n",
       "\n",
       "      <script>\n",
       "        const buttonEl =\n",
       "          document.querySelector('#df-a3732a65-64e6-45b5-8e1e-ba1f2d26250b button.colab-df-convert');\n",
       "        buttonEl.style.display =\n",
       "          google.colab.kernel.accessAllowed ? 'block' : 'none';\n",
       "\n",
       "        async function convertToInteractive(key) {\n",
       "          const element = document.querySelector('#df-a3732a65-64e6-45b5-8e1e-ba1f2d26250b');\n",
       "          const dataTable =\n",
       "            await google.colab.kernel.invokeFunction('convertToInteractive',\n",
       "                                                     [key], {});\n",
       "          if (!dataTable) return;\n",
       "\n",
       "          const docLinkHtml = 'Like what you see? Visit the ' +\n",
       "            '<a target=\"_blank\" href=https://colab.research.google.com/notebooks/data_table.ipynb>data table notebook</a>'\n",
       "            + ' to learn more about interactive tables.';\n",
       "          element.innerHTML = '';\n",
       "          dataTable['output_type'] = 'display_data';\n",
       "          await google.colab.output.renderOutput(dataTable, element);\n",
       "          const docLink = document.createElement('div');\n",
       "          docLink.innerHTML = docLinkHtml;\n",
       "          element.appendChild(docLink);\n",
       "        }\n",
       "      </script>\n",
       "    </div>\n",
       "  </div>\n",
       "  "
      ],
      "text/plain": [
       "           Severity     Start_Lat     Start_Lng       End_Lat       End_Lng  \\\n",
       "count  2.845342e+06  2.845342e+06  2.845342e+06  2.845342e+06  2.845342e+06   \n",
       "mean   2.137572e+00  3.624520e+01 -9.711463e+01  3.624532e+01 -9.711439e+01   \n",
       "std    4.787216e-01  5.363797e+00  1.831782e+01  5.363873e+00  1.831763e+01   \n",
       "min    1.000000e+00  2.456603e+01 -1.245481e+02  2.456601e+01 -1.245457e+02   \n",
       "25%    2.000000e+00  3.344517e+01 -1.180331e+02  3.344628e+01 -1.180333e+02   \n",
       "50%    2.000000e+00  3.609861e+01 -9.241808e+01  3.609799e+01 -9.241772e+01   \n",
       "75%    2.000000e+00  4.016024e+01 -8.037243e+01  4.016105e+01 -8.037338e+01   \n",
       "max    4.000000e+00  4.900058e+01 -6.711317e+01  4.907500e+01 -6.710924e+01   \n",
       "\n",
       "       Distance(mi)        Number  Temperature(F)  Wind_Chill(F)  \\\n",
       "count  2.845342e+06  1.101431e+06    2.776068e+06   2.375699e+06   \n",
       "mean   7.026779e-01  8.089408e+03    6.179356e+01   5.965823e+01   \n",
       "std    1.560361e+00  1.836009e+04    1.862263e+01   2.116097e+01   \n",
       "min    0.000000e+00  0.000000e+00   -8.900000e+01  -8.900000e+01   \n",
       "25%    5.200000e-02  1.270000e+03    5.000000e+01   4.600000e+01   \n",
       "50%    2.440000e-01  4.007000e+03    6.400000e+01   6.300000e+01   \n",
       "75%    7.640000e-01  9.567000e+03    7.600000e+01   7.600000e+01   \n",
       "max    1.551860e+02  9.999997e+06    1.960000e+02   1.960000e+02   \n",
       "\n",
       "        Humidity(%)  Pressure(in)  Visibility(mi)  Wind_Speed(mph)  \\\n",
       "count  2.772250e+06  2.786142e+06    2.774796e+06     2.687398e+06   \n",
       "mean   6.436545e+01  2.947234e+01    9.099391e+00     7.395044e+00   \n",
       "std    2.287457e+01  1.045286e+00    2.717546e+00     5.527454e+00   \n",
       "min    1.000000e+00  0.000000e+00    0.000000e+00     0.000000e+00   \n",
       "25%    4.800000e+01  2.931000e+01    1.000000e+01     3.500000e+00   \n",
       "50%    6.700000e+01  2.982000e+01    1.000000e+01     7.000000e+00   \n",
       "75%    8.300000e+01  3.001000e+01    1.000000e+01     1.000000e+01   \n",
       "max    1.000000e+02  5.890000e+01    1.400000e+02     1.087000e+03   \n",
       "\n",
       "       Precipitation(in)  \n",
       "count       2.295884e+06  \n",
       "mean        7.016940e-03  \n",
       "std         9.348831e-02  \n",
       "min         0.000000e+00  \n",
       "25%         0.000000e+00  \n",
       "50%         0.000000e+00  \n",
       "75%         0.000000e+00  \n",
       "max         2.400000e+01  "
      ]
     },
     "execution_count": 15,
     "metadata": {},
     "output_type": "execute_result"
    }
   ],
   "source": [
    "df.describe()"
   ]
  },
  {
   "cell_type": "code",
   "execution_count": 16,
   "metadata": {
    "colab": {
     "base_uri": "https://localhost:8080/"
    },
    "executionInfo": {
     "elapsed": 3603,
     "status": "ok",
     "timestamp": 1667239848668,
     "user": {
      "displayName": "Vimal V",
      "userId": "00084171580944688305"
     },
     "user_tz": -330
    },
    "id": "neOQ4lb9OCEy",
    "outputId": "f82a60c0-a40a-4b1b-86d6-26417f2695ac"
   },
   "outputs": [
    {
     "data": {
      "text/plain": [
       "Number                   1743911\n",
       "Precipitation(in)         549458\n",
       "Wind_Chill(F)             469643\n",
       "Wind_Speed(mph)           157944\n",
       "Wind_Direction             73775\n",
       "Humidity(%)                73092\n",
       "Weather_Condition          70636\n",
       "Visibility(mi)             70546\n",
       "Temperature(F)             69274\n",
       "Pressure(in)               59200\n",
       "Weather_Timestamp          50736\n",
       "Airport_Code                9549\n",
       "Timezone                    3659\n",
       "Nautical_Twilight           2867\n",
       "Civil_Twilight              2867\n",
       "Sunrise_Sunset              2867\n",
       "Astronomical_Twilight       2867\n",
       "Zipcode                     1319\n",
       "City                         137\n",
       "Street                         2\n",
       "Country                        0\n",
       "Junction                       0\n",
       "Start_Time                     0\n",
       "End_Time                       0\n",
       "Start_Lat                      0\n",
       "Turning_Loop                   0\n",
       "Traffic_Signal                 0\n",
       "Traffic_Calming                0\n",
       "Stop                           0\n",
       "Station                        0\n",
       "Roundabout                     0\n",
       "Railway                        0\n",
       "No_Exit                        0\n",
       "Crossing                       0\n",
       "Give_Way                       0\n",
       "Bump                           0\n",
       "Amenity                        0\n",
       "Start_Lng                      0\n",
       "End_Lat                        0\n",
       "End_Lng                        0\n",
       "Distance(mi)                   0\n",
       "Description                    0\n",
       "Severity                       0\n",
       "Side                           0\n",
       "County                         0\n",
       "State                          0\n",
       "ID                             0\n",
       "dtype: int64"
      ]
     },
     "execution_count": 16,
     "metadata": {},
     "output_type": "execute_result"
    }
   ],
   "source": [
    "df.isnull().sum().sort_values(ascending = False)"
   ]
  },
  {
   "cell_type": "markdown",
   "metadata": {
    "id": "CE9mBdZ2TE9j"
   },
   "source": [
    "### City"
   ]
  },
  {
   "cell_type": "markdown",
   "metadata": {
    "id": "mSD1ylKVc37d"
   },
   "source": [
    "![02.jpeg](data:image/jpeg;base64,/9j/4AAQSkZJRgABAQAAAQABAAD/2wCEAAoHCBQUFBcUFBUXGBcYGhgXFxoXGhgZGhoXFxkZGRkaGhcaICwkGiApHhgYJDYkKS0vMzMzGSI4PjgyPSwyMy8BCwsLDw4PHhISHjIpIyoyNDIyOjIyMjQyLzIyMjIyMjIyMjQyNDI0MjIyMjIyMjIyMjIyMjIyMjIyMjIyMjIyMv/AABEIALABHgMBIgACEQEDEQH/xAAbAAACAwEBAQAAAAAAAAAAAAAEBQIDBgEAB//EAEQQAAIBAwIEBAQDBgMGBAcAAAECEQADIRIxBCJBUQUTMmEGcYGRI0KhFFJiscHwM5LRcoKywuHxQ1ODogcVJDRz0uL/xAAaAQADAQEBAQAAAAAAAAAAAAABAgMABAUG/8QAKhEAAgIBAwIFBAMBAAAAAAAAAAECESEDEjFBUQQTFDJhIpGhsXGB0cH/2gAMAwEAAhEDEQA/AMwGorhr8YNB10V9Y42fMJ0Mr6Tmg3t1bw9/oauZKmk0M5JgGmrVFXG1XBbqqISkeVasVassW5q5uGIz0oOSJ02UolF8MtTt2qKSz1qU5lIQOoKrvCjRa61VetVC8nTVIUvVLrRd1INVtbqqYu4CZa7aaKve3Vfl04u4Ns3as82hbSGKkN6SlZrwHK1TFCo1E26VoMWXCqLwmrqgRSodiviEoJ0ptxCUE6VVMRYYp4i3QDpTu/bpc6ZpzohMCNuoMlHG3UGt0rRVagCbdc8ujfKqDpSuJRagEVrwSijbqOil2jbygLU1Wr0sE9KuHCmtQktRAoWuxRS8Me1T/ZjTCOYWy1GKtiu6a6TzdxUoouw9VKlX27dB0BysNt25q08LXuGWmdu3UJSodRsXJZij+HtgiDVp4ep20pJTtDxhRS3C6TRVm1RKKGEGuKNJqLm2VUEsnBZqi9apiM1W6TU1LJbaJL9ihQV1aCeYiQPYU6uW6wfH8XqvNcBiDyEdFXA++/1p/MpCx0tzNE1moGxRHh/EC4k/mGGHv3HsaJ8uqqZKWnTBFs4qm5ZINMlt1J7E1t9CvTtCpUNFWhVzWIrypRcrAoUeivaasVakEqdj0BXbc0G9o04a3Vb2aeMwOAg4i3QLW81oeIsUC3D1aM0JlCwWq4bVM/2eonh6O5DKTFTWqg1mmjcPUDYoWMpsV+ROwq21wDHcU1tWaKW3U5TrgrHItThYqXkUy8mvGzSbh6F3kRVZt0y/ZiamOEFNuSFpsUaamtqjxYqxeHro3nn7GArZom3bolLFXpZpHMdaZCylMOHxVdu3RVtKlKRaMQhFrzJXUEVM1EqkQBqTkMM4ioGs7474kQ3lp0MH3P8AWO1JOSirKQi5OgjxDxkr+HbyWDDVMQBEsO+4H1qj4a+INcWrp5sBH79Are/vSRGZgWYkgBm3IELtgfOfpQ3wudfFWh7z/kUtP6VCM3J5LvTSWDb/ABDxHl2WI3bkHzbf9JrBBZGe31rU/F1+WS3+6CYgEFm79dgNu9Zm77iO8GRjGY2+tM2LBYCPB+O8u6uqdBBDfLp+sVtkWRI2O1fOC3qzkaQe8SST9wua2Pwr4gXU23MlRKnuu0fT+tHT1MtA1dPFjhEqxVqREGpqKuc6RW9qhylMkE1TctZpVILiDolXLaqaW6vVKDYyiDizXDYo4JXSlLuDsE1+xQZ4bNOryVR5dVjPAjgLRw1Qbh6beXUTYrbwbBM3D1X+zU6PD1wcPTeYZQFa8LU/JimRtVA2qTfZVRoBFupi1Rfl17TQsNA4tV3y6v01zTWsYXLbq1Eos8PXAlWc7ONQK1t1clqpolEoopHMdQKUtVelurkQUWlkGpymUjAD00q8b8WHDhTp1liYWQMCJM/UVoW4asB8Ur5l9gDi3FsSJWRlp7cxI+gpJTxgdQzkZ8H8TWbhAK3FY4AI1Ak9NSzH1is/xbEsx65P1b/vVfg3CZ8zYKDjIEnAjO0EnaiETUw/iYt9F229yK55zbwy8IJW0cu2osXTBwhXfPpPT5sNqH+A7Orip3022M+5Kr9+Y0Z442jhjmNWk5H7z6skewir/wD4e2j/APUXSNltqPmAzGP/AG1ocoMvaznibh7zNuJaT7DAz0wKX3+HG4kfSeu4MEHpTXiOBaSTpMjBk9J9uU9J60vZNJMnA9+wGR9v0qidk6oWrYBDf7WNPdQpkdvUcUy+H3Fu6GYwBhj0hsf1oe0nLj94sOmMrv19IryL6/8Ad/Q4+VSjKpX8lZq1Xwa/hfGrNw6Q2lpgB8TnodvpvTRRXzW2upoHUnv19qf+C8ZcW6lrUdBIBUkNGNgen0rojqZpnNLTrKNjbFWulQQUR0pmBIG01aorxFdAohSJqK84rgNRZ6QYpdKr01K/xAUSxgf3060m4nxQsCUYKAe6kzOx6fTfNBzoyjY6VKsFmoeHvrtq53Iz89j+oNHolDcFQAzYqBs0x0VB0rbhtgta1VbW6YOlVFKbcCgEpUSlGNbqDJTbjUCFajpoo264Urbg7TlphXL1sdKqIipeZTV1RAoLRU0uiYkT26/aquNuBELEgdJOInr/AFpHZXV+IV6403SRp2lSIEhR7dc0s9TaUhpbsmutGjrLxSfwlX0S5nPLMzpEDJOSZncUzUmleUCtrov4ziRbtvcP5VLfM9B9TA+tfM+L16YPqbJGJfUeaa1Pxn4ktu2lsxNxpIkCVTP/ABEfasnb8RQmIYSQCqGWJP8AGSIH061K0sFLsNS15dmNIDNvAAnpHv8An371GVUMWOFAWT7+owOvMKO4sDWqdF9+ij33mD96TeJHlA7nUQfvGcZDJH/Sot2y1UiHxPxQezagCHYtAMkBRG3tq6U8+DbQt8C7T63cyewK2/8Alasx8QkAWLZJLLa1R+aW7P3lY+29bThuHNvgbK/vW1Y95ZdZmPd6pDqJqYSB/NYCCVJM7EQcGM9duo67UBxFlWBgxAwemZGf+/UYovySUUzk7Z7wZ3nv33pZxw0oSdwCJkAyAJ3gRy05OiizGhRvAJ3neG/5x/cV61bBDTjMSZxt23/1ipPbI0wSCFE9QSsqR9x8+/auBvwyQYz/AGP77VCPQtLlgnCGGkb5xMfp1+XWnPhP/wBykjMgZBUjH7ogA422g9cGlnDoAAVKvIOoEZX79esqZpj4HniLf+0P5HvVI5lZBvFG8C4rrVYF2rO/F7EW0IJjUQR0OOo67V0OVKxKDeJ8RVeVGVn6iZge8fTFKL3xTj8O3nqXzH+6I6/xUn8If8YAndWgfSf6UFxFvTcdezMB9D9+lc71HY9YNx8P+Jm+ja/Up6fmUwQY6RMfSjeM4hba6m+g7/6D3rLfCfEhGctMaJiDPLqn9WWqvGvEWuOYI+nQH0xn/ScwelGOpgZx4IeKeIG5MnH2Ef6e5Ee9C8O56SJ+Ykb4zJHyLj2r1nhsS0/w4/Me5JXTgnI0t7Gm/AWGAOhCGMnVygAdzqX1e8dsnrKcykYjv4euTbI/dP6ET/OaeW6Q+DEi4ys2osJJnUSwzluu5p6KpGVxM40ywmq2NeJ/s1S19R1n+X3ouaXIVFsmVqDCpFqqd6Ni0Rc1SxqHEsQA0kBTJAEyNiIgnrOO1eL0bNRxjVZNeZ6rLUUzUFMs9KVeN3fLQRhieXOe30yQPqahxnxNw9u2Lik3JOkKkapHcGI9u/SgvELpu3Oo2UAxKmOsHcAk9pahvAtPNsW8O/lAl2LFyWhmgED1GMnP8IO4+ddTircOyMV06nKlE0SeVVRxlScQW3gCDkUJxA1E3LZOlYRdJ1JoBIOF1LBknLTESKkLHPbQao/xWU5K55dJADQWzygD8PfrQcU8lU2sD/geNv2URHUPgKANMCAs6SsDSARuSdgc0Rw3xMmsq4lQSNY7gkGR126Ulfj3tq5WZPKCAIZnAChmBOxIPU/zqp9OgaUAKiJUGWAAAJWYnE4iZNCO68glGNYGXil9bl25cgNbUC2ra9A0j1EnBPMSYHQ0m8LK3L5gKUSX1KoUcmFOrdyX0796Os2nCcoHmAFlK2zkEHe48KCMbYx13qHgvBG3be48FzAB1asKJzBIySv+WhOWBEs0X3nJLED1RbB2GfqAfv1pFx3EfiLyg951QAchtS9dJAz29qdXDpCjYtLTgZblUzj5x7TWfS6GuOZWD+9mNRwIzgD/AL1GHJSXBzxtvMvKmA2i3bHcEqMRPdj2+Z2r6R4xcGi2oJECMCdyqjEe1fPfAU/aONttuDcN0hY0goC8426DYdN63vijANBEwFA/VuxjcVWPtsnLmgC55bwZBIgjY4bEwcjc/akXH8MdLEagWgRtBJ6hZ77+2/UP71tW1SBjqY7TvO0RilvHJp8sGM3E6ySAAchjJPKe5x9tdRYsVckL3vjWRIg5GZ3yI7Hm3/71xwBbWeu8RnfHt0zQN9gbhEnBE+8cgzmdvngTRvEL+GPv2/LP9T96lB5RWapNnLPCzGgwTGNznYSMz9AKZ+CWSL1okbsOkbSPluCKVcN06ZGenzn/AL038FDHiEyWhgScnGBmRMbbgdKqrT5Oa0zdkVnPjFPwV/8AyD9Vb/StExxSP4pWeHPsynp7jr86rL2sxiLVxk9Bg9wAY3HbsT1qDuSxkyTk+/2z+tW+SzZAJA6gFgI98CpfssmCwntJJ/y2wfsTXM5JDU2E+DNzlf31dOm7LPfsh3qfDqNQHeQzRqjEnl7x9cZB9VXcFwyW3ttqzrTlKaPVyAiSSfUe1XcXyFgoPJqACjGN8SAIGe/bGKWMk7orTSVlnDJpYkQ3QFwCQPlJA+kj2FGs8BVboIUEYwTG/wDykbUm8LuuZOFU5MnciZ5zEmd4CnuMU15B7s0fwasRu3M/Qek0l5Hp0X8Jc03FY/vAE52ODuO1aS60AxvXznjuPutcZVLIqqIw0EmZjWATEgHA2rh8W4vrxB/yD/8AarR9oVE1HiV9gx1M5GCAsLg93yd52iu8FxOpIAACmCMnlbYyTO8/asZxHHXm5rl+AomShO2QoCmTPbarrnFXLVsv+2JkNhbZJaJ5RJzOBHTV2k0jjWGVTs+gK+P0qu48CT7fqYr5yPGOO83yw8qxItvIhsShiMapX5STmKotePcey3MkMoU6ZXmUmGMxiJH0DdqqpYJvTyHXvFeLv3GQk2wCVKqSiiDsW9Tn7CjOEuXLVwsSzahDqDjVAhhqcZOCeU7nNJ/C+IvXGF25GSyuDkhsacjGebf9wiDT7xLhfMthlHMIEDf2wPckbD1Gg3Yaouu+MMg9KhcGXZxiBM8kA/Wmdvigyq6mQwBBGQQcgyN6wyWenf5/0anHgPEMNVtpMcyk6ticjU3ucfM9qeGME27yKvh60XuFzGhMjAEknSsE7FiD9AO9OONueWhMnWxNtCAfU0m4whW2zuu6gda74VwZtWlT85hm6DWwhVjIhFiROyzSX4h8RTVpUPK/hqUPlsSCpulXkg82lfTJ0t3rPuOihfEArm2PLtqpCgHVOkieVohN8qSo79a9Y4lgvmsqFGK5CnUq+i31CnYE5YgvkZoa7duXALFxVfPIwYl0G5120E+mRlBvRNngLN3WDc/EURDeZcGkTPmYRgBiGXAxnuj1HFZ/0aMLYxN5LlwIuNALtKspLEaQRqiVgvsAPTvvVnE3AgExEjcsNzGCAds/ShvAuAuFfM0QbpB0jpGBCer65nBml/inEN5mhgwSSdILCQAVB06TuZPyqu5URlh0aHhuKhfxgix6WbmUj+A3X0gARvtIptx68q2+p0gzp9j+UAbkDEbYrL+H3GuXbSglrRYH8RFYlIloN0HsQNIFae483Cx2RSxnGdzmI69cY6VCbDDuJ/FLi6mH7o5ZGw9EhsZlic9jtWd4fQBc1sMkwAQOyk5U9WFOfE3IUg/mOxnIUZnO0uT76etZ+6wVANC6jzQM55miQZiQucZApU8BeTQfA1y3auvduMFCoyLBZidTCDABE6VOxitdxF5Ljo49L8wnBiB/QGsP4DYBR2JiXIzJPIInI7k7kGtvwP8AhpMyLat9H2ETOx7VSLxQjVts7xiAbRvIj35R+h/nSTjlOpFBnULkZn8jRic7/ut8uoePdBUKfUffYwSN98R0/wBaTcSoFyMYQMdtg6AkgHIwclT81oTdRDpxuVmfdJuEgjmLNB6ycZ/3jRHjVv8ACG5IVo7SYXMdZkVGzamDIPpPuJGkCPr07CiPGrzJa1KCCNJJgSD5gznA6fqKlF08DyyjMcHeuKeSc4+ckRAyCfrWi+H+Mc37SsIbzVB5YkQ0jtvB70kTiDqBbkEBWhQoK4mYEQc9DPY05+H7yefaUZ5wAZMSWkHbOJEECmhqS3JUTlBNWfTC2KW+O5sN3lf+IUy6Ut8buaLFxs8oDYwcMDv0rrl7WQSMuNdwAIhYDOzOPeS0KNh0qYQnLEaSPTrgHGOW2MfWKS2PFHDM2W1R69ZAA3EEgHYZIxmnVvxNUQOHCiCB6FM9RpgmekjOa89p9i7pdSf7MAhuAEEQfQwWVyCbpJxIH1pz4nwgKXH0gwQd3ltQHQSAsn905+1IOD8T859A1QMydTSSe3Tff3py9g3Ldp3O9pNQxl1BDZJjHff9aFO8srBqqSEFi6oKsWLbctsaQOoBut6ozOg/7uaJ4rj3RWt21RGbUBCliCZCsxcCTsY07dTVD8VbssxVSHyQ25I2HqIa4YbGIBAOoUPEiepgknO+f77+/U7fgpD+TOeG+I3Ll4O+orcLZ0aVLHm3kgmRHtTm+pnAf2grHfY1l+Lsi3ed9agpc1Kh1TBIdYgREGD8utbRwhAeUEjBZA8jcdcVRSGcQG2pDAsrkDpKCcd6lxNyRypdWN+dWn79aPtIXUwbekQJFkECSMGNutdbgrrZ0grnI4fHY7Urmrz+xlHGP0JHe50N3/Mv+tVrduz6rv8AmX/WnD+GtpmBntYIGdiD74+9V3fCGXISSdgbLgkxJAn6/aj5sQbGLfMu5Gq7/mX/AFrXeCXfMthWByCrAx8jgSBPyG9Zy/wIX16Un960R/P+80T4ReFq5olYaCIXTJ6GDPv0plNMWUGgrjPC2DmMmTICM3/DbYCd4xgx0qu54Ed5C9jpMwcxHl/2RT/xUEoHWJ2yAc/JidwSsBZJKikacU0bjGMhBG5gcwjqYqibaJOkw7i+J8tC+7SETTBJu3CAIGJ0yI9tQrE8Tdd/S969aHIw0AsIWNYdwwE+qcHPSnfxDxbalRfLdLYm4bjkMrXOXVAYEYY7TljtWeC3Cr+UyhQQFQLrZXYRy3gDBAJI55GRAoOa4HjF8hZum9bL6Dc0J5dsEXAwgZJW2WAYkASdIMfSgPL5NTtqdiLf4kAqOsSWIEAwSqkdKLu8PcdVsNbAcHUCLhhROToHTOQuxYGK83C2S5Ug2yF0szMAjXOXUC7GFJhuxkHaDSKcUvgZxbHfhnihAFpQ45dI2dSIyZDAT8/61VwAuPce5b8srOmCxUaRtguIwSQCetAcMnl27tzWWX0oT5mC3s6FTuNiDA3yKaeB8Ijj8M3QwEMLbXTE4k6bAjY/n6b1e1VnO01gd+HWLRuO6AB0HlnSECxcAYz5YIY6VGdTRPSat1Rbd/3m9pAXm3Gfbt79KvZnW1pcy3MTBuEAMxj1sWBCATtmdqH4kxoUjVGkMDONZyTmVG+x+prmm8lYqkZbxvhnfTbEiMsSpYFiS0CADqGvI9vlSjxFHncZbZgepGmSQARFtc9jmnXFrdNzzFkqAzKpMKGbIEGIJ2xgADB6L+JRy0FYOrSCAYZcLMqdM+r5++1a8CurwOvD28uyswGKl4HQnmPNIMR2J6fTepwxtoukEkIqYAJgLBHywPvWP/ZrhAGQsaRELynlmJUkc0bGtndJBxuS2AWzAz7D9BTWrpC06sB4uy5nOfy6cdp1Tie2KS8U7g3DJBVQJ7HRcYGMiZCn8vTJ2p3ev3DgiM9TPXPX+lIOIumLpwW1AH0/lNoHEAxFw9x94rT9tBhhi/h7ZNwzkksOs5JwPnI6dqp+KS2lc7hWAHYkkYB3xnHWifD0/EnBgiD0EY7nMxn2qr4lZVVJUEFgvMSATpnGwmT3Py7pF0wyX0mXQiMnM4EZI7zynEbe+9MPh+6Ev23MwrqT3jO07/Qmlbsd5JmTOfl+UkfpUuFeDM9V7Dv7D+R3pk6EStn2bh+LS4oKkgxOlhBH9CM7iRQvjaTw93P/AIbn7KT/AErO+A34uLmQVA6HpIyBjJ6YzT7xTik8u4utQTbcDmEyVIHXua6IzuORJadSwfOGJDMjQG2IyTO4BEQd5+9cZWHQ95gLygSZJOwAJnEUULBezcEuINtsHSY1aCOX2cfpULPhy+YhjL2VtySPzcO1j+YrlbKqKeS7wFj5isCsMWtyLisCVAMah7EGPlW1S6FsrInS91MQPWxdd5/LGINYz4eCQoUry3geUax+JbIEj52gJ961rMfLuhDzC5auDAHqi1tBj0t0xStphiqljsKfELly4WCCV0gtqAwJK41EsBj90T+929aUG2uNhn6Yk9tqsXw12Mu4MkjH4hBgnfK9PY9aC8NuKBctCJRwGgzLEdT+YyCP0EUYyi00mUjFp2zMfEnBnzA4VzqXTyLMupMg/wDp/wAq0fgT6uGQcwK8hiNUIYAyInTpNK/jHhWNtWYZVgc76HET8pFv9Kn8EmRctBlOVcQcSeRs9PSv3rN4uyqWaNAvEFRyG8vyKDI64X3Nd/brgEC5xIHUB1jJz0o5ryvAFpRGf8QidIJgkv1FVuykhvKSBIIFzGR1/E+tR3Lqiu35F+u40lX4ggbjUoxv29p+lV3PFLhA/F4qRn1gwYjGMdc+9MVZC2ry0AIAzeIUHOf8T2/l3riWElvw7ZnmE3W0gAgQPxB3rOS6oKi6wKL3Fl8s/EMe7Opz8ivsOtDX/MwWN06YC6tJAA2AxtvinA4VdLLptd9TXWmDIBH4mdu1At4cNJwsiQR5onESfXEU0Zx6CuDNJ4PxAuW9JkAiO0HuMqJpPxVsoxG3sJAHcYYAZmB+7pPWqvh/iDbfTkA+8n9Jb+QrR8eFw7TBwdIBIbp6mwCBn/YWumMupzSj0PmK8Y4L+ZxBVixLW7mu4kNzbpjqDXeK422XQsxuAKWYCbqFicAI+kqABq09BG8mgVtaGIt2w0GGNwoyTEwrlV5jnAzjrFXeH8a1sEFBbDSwJF0oxIOwkgwNvkN4pXTyNmsDG3xqpquKlwoPSbYVbecsCisUIzpnR075quxcVDklidRYBgILDlgAKwGc82x96WOy65uWNLTJaXQMoiIV9iT199qs8Oso/EAIpVTzZuK7ALBaWWNz37j3pYw6ZDJ9RxxdvCWxBObtwsyAyTAli2TkiM79aa8LctXVW24Cs58sQATJ5RFwWHgwCQ0iO9JW13LjXLdyGDaVGMLpIBDs+DAPLmO9PvBuKVA1w2wdJFuQ6u5uaYGCkgacyGjMCa6G8HPVsf3bYLIg9IzAg4G2/sD3+dLfEXyzdAGIIzOr8Me4wSevzxVt/jrom4LFyAN2BhRAzkfzJ3pZwnEtf8wOoUKV5l0MZCn1M7AfmHXr0ioSTjFyfBSOZKKQidkLOxnSfTED0HU0gkheYRjcYqfhfCg3EAMbkltKjvDOrGRk4I6D5U04zy1QMzXCTAUxZIIJEHDGRgChb161YKlrluG1cy29JGJ0/h4c5A/sVOOrGTSvI09KSi3Q34CwpvW5Yf4lowJzDgnOgAYHU1u2J/NG36z7189+G+Ks3OKti2zsZZpKaRCo2Zk9SvWt44HbIhdx7AY6/OqSeeSUI1HKBeK4YnJHQ9DGVI+m5rN8Wn4eJ5rsxnYltlJIJm2MA9ZgTT7jWcBjzQI9h6pPtsImaQ31/DtbZLEzpyDrbH5SPxf++9CTeBlwwbgLfNjMCABtySD0nt9qA+LSQygxvHXA0CIInP2pjwj5yIg7DuRzHtgx+tJvH/EC1x1GnSjwMCWlELFsT1jPasmwSSozrAnpmCY5Seo9jXeHQz1/L+97/OiX4qSSQhk+w+0AQPYVxL6MDyANPqkmRmBBJEDP3rbn1QI8jYeJW7VwKdcqbZMKx1LonT3mAd8U74ngFt2bUKdbAhiOUsWBKyAyH8kbZigPDuCtA+aSDcYCOZFCjTGAwABgxOZ1HNaLikVrIDEheUzCfvHI0me23y71GcrdI7IxpGHsei4oYc6qDp1aoVlfGcnkAq/huFSLTnVqtQEMHo7XFkEkHmY79BFL0U62BDDMZbPcYOwMr9quQoogoDvphveSN+856kVXBxNNYTL+BuLabkOnKlo0ggpOkke2o/f3FbSyAyXNMhrnDs4khjNs6hnIObvvWD0qIICAsQerZP0719B8IdZs7Z122GxAZGaCJx/hrSyDH3GU4u87nma40yYZjEROztbER/CdqH8Aui3xVxRANxQ6sCD6YAAEAdXzXb1h1JUEiCRgMAN5/wANE6nqx+dUpba1xFm4SYuTbOCZBIiSWY+phmfynambVUh9NNSsc+LcIblu4oGpmUwMSWHMoz/EBvWb4DhOKa5chwl1IDBpB0OAV06MZKj9K2ZfSQw6QR9M0u4kWrXFAnzAbitbGVCRa5wWaZBiPpSt10OiKsA4vgrty2vEWrrgPZS5oGojzEUpcWdWJe05iOtH8T4eiXBfFy61pmt3Qms6TauAXAggTENp36Uw8Otr5EcnLdd7YN1M2rwFzHNsGBEHPOa7wVoeQlt2sg2zdtDVdT/CVi1pgQ20Oy9+Wg5MKihF/wDLPL4s2bl66bZDKrM52Ym2bkgCdIe3cH9aUeA37gu3bN5mLiRzMeVrZKuM/wB8tabxvghcFm4jWtSAJcXzUnSAbfqnP4fl9d0NJfGfDbp4pOIthH1qjXYuWhFyNF0ZYerSW/8AUplKxWgq+AO/+Y1RJ9+/q/vFMLXBKxhLL3TA9LqqzkMPQeYcpgkSrE9IrT+F8ERbu23sm3buQE1FWl2RuigaSAgn3iia0Ye3KkGDjuZ61uPDOIlBmR7f/wArWK08xVktAiQRLCCMEbbg/wAqi/jrcMqqoRpn8xYAdoBABzTQl0Ys49UJuNsKXAt2GYMA4ZdZLqCNXqJnP5s7+9HteFxWt+deRlAZFcLGuTAIWCm28/Q0sS/buOC73GYmT+gEuzkkACJifmabv4HYVC2oO5IidQA1MebSRzACZOdqnutVRk0nyLuGe7qLlQfyE6FKkEYYM6spmJkDMDIoq3ecI9wBVfKjTaVWIIA3VdPv0ONqhx/jra4tuwtqAqAMCP8A3DC+wA2G1WLx7XISWdBzMWCpLARgxyztPdvlWU4p2JPdVI94LwYe6nOFeZjSzMPcFlKbQckivofDBbaOw0oATiUtyYgM3z74rJ+BoLFxjem24XSgcEkM2ZMAQMjePpWqvr+Glu31IEAWiMb4OBk+9HzIyVpmhCSdSVAvifEn9mhnM3Gj1+ZgRIlRERBj3O9ZNSVsq4UFrjalDDBN1iVz15YED2+mt+IbtsBOHZWLmEI1iFURrZQsQwUncbHAxWd4m7LhVRRbUHYOQsKAu5JnETiIrKdxr5GnDawPjEuINZVQu5OhTEgquCY3mq79sMQpldKEwq2sgtpkq1xSCVUGADv9ab8TwqgkOUGoI4IBYAFdQWQeUx1Oc7UobR5rRkcowbMQvYXUJjE74n6BNWVRtM2mvqqRoPhDhES80HUQG3REOCoO1xgRNwf2YGofiCGCt6g2yicBWO5+lZXg/ErXCKxf1EEwEQSzXCGny0AQjQN/pgACdrxhLr3NWlCokFjIMqowcSQZEAdCaGnqR2q2HUi3JpD7iuIARu+RuFjB7mMExB7Uu49ggtJmdIk4UGBbTJEhsp+kUjteOK+q2AqJDHUcZgGMzOSek/anPEcZadmJNwAa406QCNbmPnkHPt1Jqjmm8Eq+lkeDV5X0kkjbuYI2xggUsu/C1y7eu3NaKGY/vYAx7dqZJftqBcDcnMwYgExqAIBBzDEYGYj50SnH2zbuhXBJS6YhhkKx/NSb10HUFwxDd+EjgDiELZx/bE9e1LeJ+H71lWdgpUZJVhsPnpND+JW+VCBjPTGYice1T8MLhOIRpEWvSxIA5l6HbB7Ud7G8qI98NvciZIlV3dh0XoylevQx+tP7rg2Z1DpsUH5hOUXV1G3y96zXhDgLbGrJAgA3ZIHlgkaWhgO4UD2GZ0TXx5BGoiFkybsg4I1CARsdzODneoXk6ksGHfhlDkyPVvpuHYxnrv09qO4fhVJMx7EIe/8AEcdKDuEeY4kAl3EeXMyxz9jA3ou3xUGZmMSLQJ7Df+/vXQeXqbrKr1tFMZ6AAKijGwyfatR4HdHLqL6tVo8zW9tREwTgQxnrAjeKzXEuSd7hkah+GByicgfTf/SmnhfEv5f/AIpO/KqnTHcGdo64oPJo7k0wP4htMnE3QgyGLSCkgOVYEcjt+YD60uuWb94KqhSyOHBYuWmD1dVx8gdq0Xxbw73Luu2lx0dFaUVyAcrB0uADCjETSbw/g7lu4r+W407/AIYwhwSTqLbE/ai5JK20dMYu+DQucScH++tYz4ksXH4hQoZtaqUAk+kaGCiY9KzjvWk4nxRNQULcJMQBbfM5EEgSCMyMV7xL4Zu8Qlu4rBIBbrqh1U7CIIjv1NZS7MdruA+E8THDg3B/hcjKZzEleXqdJXb271Rxfj1vGm11k4Ix2AnemPD/AAMQsXL05nFsYwAcsx3AXp0q1PhGwvquOfqg/wCWj9PLNufCMs/ira2YKYMAKRyge38XvULnipaS9tGERGlRnoRA6fr1raJ4BwakDQCcRLtn5ANn7VeBw9rCcK7HSSui1AZvTBYryxpmeadYPag1GXQCnJdTC8J4w1tgUQqMEqGZVfSzdNjglZ7AVuvGkYjheK4YqqoykjULauHj1Tg4gAn/AMw5xVD8FfvIQeCQ2y2Bqt22IWIJypmdQjutM+H8JZ+EucNcteUhxbDMrAYmcO3pyROJA7UdqSpYf3Nut2zKeP2zd4kvw7IwcFmRtSkMpAYjEkcyn3kkYIpNx/h7IxlVY41aHkAtJG4ByAcdPrTi58DcS+jUulguls2jhfQ2+YB046IO9BcH8M37dwq4FttMgEhgy6o1AqI6D70Ns75x/Ad0a4yA8N4IoJ13BjKwyf8AXO1HW+A0q/4iaBKqfMYc9xYG09FuMf8AdHSj08KtDow+er/i1Ufc4RNChVEAluYuwIIAMaNJGy5JIHbNcz8Rp90BJmOt+CH8120PaT12IgfI9Kb+B8CLd1Wu3LflAyQC7YEkLBXOdE/KnP7PnVpsb7lHYDps1yJ96Kt2rOkB7Vpjty29IiZAjoOu+5NJ6jSfMl9mOo54GPEvw9y2TbWwLhjN22sx15SOZsR+vSgvDuHuK7Mblvyxq0IqgmIMfLG8ZP8APicNYJnybQ7SgPyiZ7n70XZs2U2s8P8AW0g/Sp+phDhr7DuO55/YlvWbrLduZLorraJwwe5scjqur25TtWeunimPMrmYGJgapPQY+c9fnW4v3rRlTb4eCQSAluCQDBI9pP3oQcBwzH/DtfLTj7BoBpPUxaSYZRt2v2ZTxnw7iA40MziAda6tOpjGCVECAKIT4bZ+Y8RbUmeX1EMNWlZkap0xI/WtM3hfC4IQA78uuMbYJP8AKuJ4RYWGC5HpJYmIMiAfefvR1PFQftdf0CMFHlX/AGIuC+HGKkvxlm2TsrapYmfzAbnGfel3G+DOl1raXrbwBpedKsSBIAbm3MbZrZLwFkQfLGNsGcbRJ6Vb+x2jLFFkmdgDJ6yKZ+M0eiJR0ZW22fO/2G4WGp0T0yzOBAYjPTAkScV5LTBvLNxA5iJLH1JIkxAwQZ2r6Dc4CyxllWehyIA+R9q4vh1gmdKzt6m7RG9I/GafZjeXRgnsXF0xcSTGA0EEzAON+U/avFbrLHnW4H5fNG2F6mAMx9Ir6Bb8Ps6iQizMk756HffAz7Vz9hsg+i374UT12nOaX1mn0Qy0zG8FYukBi9uJ/DQtrk6QWOgSNo6Db2qviBxGzFB5kJIKkMurGogaiJU/b5Vvl4e2VgwVG2MAY2A+VcXgbM+hPsNvnWfio9EbY3gwvC27iLr8rVAJDADAiGKkdIMTHaPYb9nuco8u7pOkwUYgyM5MzymK+ingrP8A5dv9P6CuPwNknUbaSNjAkfImKEfExTuvybymzB3Uuo1sLaJNrSbbaGgQxuCcDYk4795zLhXuLyfs6w5AYeW+dBDKTOw1SJ+fWty3CW4woqKcLb7R8v8ApT+riub+4Xpu7/6YO7xt9Ua0bbabhwNDEoFYtpRYMCWJjpXuBHE2mkI43UkJqBBUqZxkaSRJxnpW8fhbe0/qYqScLbO5PtmsvFxXT8ivSff8mNtrxVuEtF1VmIDaActzCVKbDFMfD/GeLt3Aj+Y2g6S2hlBWTqKhRHVY6Yk09u8HZ3InO5IPbvnp+lQ/ZLcggHGQZHQz9c5qc/EaeonGSwU03LTdoxd23xB1ktcVBEKFuaDLHlUKMAbxBxv3rW+AcQ3k2xduEIqslweWUadl0Fln0spLd56zV99JzoUmZ1BVBnvqWCD70PcCvIKNBgEF7mY2kaxXTDxeku5KalJlXEeH3F0P+1XJhtBFpIYAMZADgErg/wC62wNAcXdJweMvw0BdKQeY/hiPM/geD12OQKa3baiWyWOGOu5JG8El80E3CW+U6RyRp525dJJxzdyar6vS+fsJsl2FAsWG0zfvnPKQoGLhhIJfbVOe5zFMOI8Msvaa5r4g6AQcIHm2oNwhWeZidXeT7Ve/qDgnVGmQ3Sdsg9q7evOM67k/O2f0NoimXi9Hv+Bdkux7gL3BXLdzhdV4i4/7TZKrbnUivrNuZAkIV0kTJPzpl8IcPwRuO/C3L2tUBK3QgBR2LCNIkw2J6THes+ihGFxfMV1JKnVagEkMYHlEbjb59zVtrirtvIuXAcidVo4PT0T2xTrxelVWba+xovHOG4a3dTW99TeChAgtlJTTqALCdZ66pnX06UHieHe1bu2zdLWtVjVeQAm20OoISAY0wpA2DTndSfFLh1S9zmOrdMNEbCOX+Hb61O74rqOrmk+oaVbO+BqEAEtH+1Tep0+4afU//9k=)"
   ]
  },
  {
   "cell_type": "code",
   "execution_count": 17,
   "metadata": {
    "colab": {
     "base_uri": "https://localhost:8080/"
    },
    "executionInfo": {
     "elapsed": 884,
     "status": "ok",
     "timestamp": 1667239853845,
     "user": {
      "displayName": "Vimal V",
      "userId": "00084171580944688305"
     },
     "user_tz": -330
    },
    "id": "o44lnyHZP-Tj",
    "outputId": "b692653a-217b-4d28-b509-247ea58a180a"
   },
   "outputs": [
    {
     "data": {
      "text/plain": [
       "Miami           106966\n",
       "Los Angeles      68956\n",
       "Orlando          54691\n",
       "Dallas           41979\n",
       "Houston          39448\n",
       "Charlotte        33152\n",
       "Sacramento       32559\n",
       "San Diego        26627\n",
       "Raleigh          22840\n",
       "Minneapolis      22768\n",
       "Portland         20944\n",
       "Nashville        20267\n",
       "Austin           18301\n",
       "Baton Rouge      18182\n",
       "Phoenix          17143\n",
       "Saint Paul       16869\n",
       "New Orleans      16251\n",
       "Atlanta          15622\n",
       "Jacksonville     14967\n",
       "Richmond         14349\n",
       "Name: City, dtype: int64"
      ]
     },
     "execution_count": 17,
     "metadata": {},
     "output_type": "execute_result"
    }
   ],
   "source": [
    "cities_by_accident = df['City'].value_counts()\n",
    "\n",
    "cities_by_accident.head(20)"
   ]
  },
  {
   "cell_type": "code",
   "execution_count": 18,
   "metadata": {
    "colab": {
     "base_uri": "https://localhost:8080/"
    },
    "executionInfo": {
     "elapsed": 805,
     "status": "ok",
     "timestamp": 1667239858991,
     "user": {
      "displayName": "Vimal V",
      "userId": "00084171580944688305"
     },
     "user_tz": -330
    },
    "id": "Twfeh7t_QBtI",
    "outputId": "d2542ef5-3275-470a-8222-9a187704b989"
   },
   "outputs": [
    {
     "data": {
      "text/plain": [
       "11681"
      ]
     },
     "execution_count": 18,
     "metadata": {},
     "output_type": "execute_result"
    }
   ],
   "source": [
    "df['City'].nunique()"
   ]
  },
  {
   "cell_type": "markdown",
   "metadata": {
    "id": "jQwzbx8wQqgF"
   },
   "source": [
    "We can see that there are currently 11,681 cities present here in the dataset."
   ]
  },
  {
   "cell_type": "code",
   "execution_count": 19,
   "metadata": {
    "executionInfo": {
     "elapsed": 1000,
     "status": "ok",
     "timestamp": 1667239863778,
     "user": {
      "displayName": "Vimal V",
      "userId": "00084171580944688305"
     },
     "user_tz": -330
    },
    "id": "bhusaF5qPJiU"
   },
   "outputs": [],
   "source": [
    "import seaborn as sns\n",
    "sns.set_style('darkgrid')"
   ]
  },
  {
   "cell_type": "code",
   "execution_count": 22,
   "metadata": {
    "colab": {
     "base_uri": "https://localhost:8080/",
     "height": 282
    },
    "executionInfo": {
     "elapsed": 858,
     "status": "ok",
     "timestamp": 1667239878395,
     "user": {
      "displayName": "Vimal V",
      "userId": "00084171580944688305"
     },
     "user_tz": -330
    },
    "id": "NfbOHDsePZKD",
    "outputId": "af576027-9ba9-49c3-f069-e26f87b7e522"
   },
   "outputs": [
    {
     "data": {
      "text/plain": [
       "<matplotlib.axes._subplots.AxesSubplot at 0x7fa4e7accb50>"
      ]
     },
     "execution_count": 22,
     "metadata": {},
     "output_type": "execute_result"
    },
    {
     "data": {
      "image/png": "[encoded data removed]",
      "text/plain": [
       "<Figure size 432x288 with 1 Axes>"
      ]
     },
     "metadata": {},
     "output_type": "display_data"
    }
   ],
   "source": [
    "high_accident_cities[:20].plot(kind = 'barh')"
   ]
  },
  {
   "cell_type": "markdown",
   "metadata": {
    "id": "lpzOW7iz5G9S"
   },
   "source": [
    "The cities having recorded 1000+ accidents per year are shown in histogram plot."
   ]
  },
  {
   "cell_type": "code",
   "execution_count": 23,
   "metadata": {
    "colab": {
     "base_uri": "https://localhost:8080/"
    },
    "executionInfo": {
     "elapsed": 27,
     "status": "ok",
     "timestamp": 1667239880126,
     "user": {
      "displayName": "Vimal V",
      "userId": "00084171580944688305"
     },
     "user_tz": -330
    },
    "id": "hgnvMB_iNq5-",
    "outputId": "00000e1c-2cb6-45b7-c1f1-3f13692d89c5"
   },
   "outputs": [
    {
     "data": {
      "text/plain": [
       "494"
      ]
     },
     "execution_count": 23,
     "metadata": {},
     "output_type": "execute_result"
    }
   ],
   "source": [
    "high_accident_cities = cities_by_accident [cities_by_accident > 1000]\n",
    "len(high_accident_cities)"
   ]
  },
  {
   "cell_type": "code",
   "execution_count": 24,
   "metadata": {
    "colab": {
     "base_uri": "https://localhost:8080/"
    },
    "executionInfo": {
     "elapsed": 508,
     "status": "ok",
     "timestamp": 1667239885618,
     "user": {
      "displayName": "Vimal V",
      "userId": "00084171580944688305"
     },
     "user_tz": -330
    },
    "id": "phTJ5icNRSCi",
    "outputId": "1ed6320c-2530-4fc2-ef9f-c89724538acc"
   },
   "outputs": [
    {
     "data": {
      "text/plain": [
       "0.042290899751733585"
      ]
     },
     "execution_count": 24,
     "metadata": {},
     "output_type": "execute_result"
    }
   ],
   "source": [
    "len(high_accident_cities)/len(cities_by_accident)"
   ]
  },
  {
   "cell_type": "markdown",
   "metadata": {
    "id": "oHkCca8DTcoH"
   },
   "source": [
    "4% of total cities reports 1000 accidents each year"
   ]
  },
  {
   "cell_type": "code",
   "execution_count": 26,
   "metadata": {
    "colab": {
     "base_uri": "https://localhost:8080/"
    },
    "executionInfo": {
     "elapsed": 933,
     "status": "ok",
     "timestamp": 1667239892435,
     "user": {
      "displayName": "Vimal V",
      "userId": "00084171580944688305"
     },
     "user_tz": -330
    },
    "id": "4ocSPXKbNq9U",
    "outputId": "cb11ca57-e20b-4f2f-8359-cb647a1a8d37"
   },
   "outputs": [
    {
     "data": {
      "text/plain": [
       "11185"
      ]
     },
     "execution_count": 26,
     "metadata": {},
     "output_type": "execute_result"
    }
   ],
   "source": [
    "low_accident_cities = cities_by_accident [cities_by_accident < 1000]\n",
    "len(low_accident_cities)"
   ]
  },
  {
   "cell_type": "code",
   "execution_count": 25,
   "metadata": {
    "colab": {
     "base_uri": "https://localhost:8080/"
    },
    "executionInfo": {
     "elapsed": 1035,
     "status": "ok",
     "timestamp": 1667239890139,
     "user": {
      "displayName": "Vimal V",
      "userId": "00084171580944688305"
     },
     "user_tz": -330
    },
    "id": "Xcyk5dk4NrAP",
    "outputId": "43384bd9-737e-4e3b-9366-11fe03e37eb8"
   },
   "outputs": [
    {
     "data": {
      "text/plain": [
       "0"
      ]
     },
     "execution_count": 25,
     "metadata": {},
     "output_type": "execute_result"
    }
   ],
   "source": [
    "zero_accident_cities = cities_by_accident [cities_by_accident == 0]\n",
    "len(zero_accident_cities)"
   ]
  },
  {
   "cell_type": "markdown",
   "metadata": {
    "id": "PuMTVEcrT-Fg"
   },
   "source": [
    "### Start Time"
   ]
  },
  {
   "cell_type": "code",
   "execution_count": 27,
   "metadata": {
    "executionInfo": {
     "elapsed": 1438,
     "status": "ok",
     "timestamp": 1667239900962,
     "user": {
      "displayName": "Vimal V",
      "userId": "00084171580944688305"
     },
     "user_tz": -330
    },
    "id": "VM6BmOd5NrET"
   },
   "outputs": [],
   "source": [
    "df.Start_Time = pd.to_datetime(df.Start_Time)"
   ]
  },
  {
   "cell_type": "code",
   "execution_count": 28,
   "metadata": {
    "executionInfo": {
     "elapsed": 35,
     "status": "ok",
     "timestamp": 1667239903160,
     "user": {
      "displayName": "Vimal V",
      "userId": "00084171580944688305"
     },
     "user_tz": -330
    },
    "id": "DxR0mMVWNrGM"
   },
   "outputs": [],
   "source": [
    "time_of_accident = df.Start_Time.dt.hour"
   ]
  },
  {
   "cell_type": "code",
   "execution_count": 29,
   "metadata": {
    "colab": {
     "base_uri": "https://localhost:8080/",
     "height": 297
    },
    "executionInfo": {
     "elapsed": 2002,
     "status": "ok",
     "timestamp": 1667239907758,
     "user": {
      "displayName": "Vimal V",
      "userId": "00084171580944688305"
     },
     "user_tz": -330
    },
    "id": "_Q39wbmrNrIi",
    "outputId": "13893e4d-7fee-44fe-9f67-fecc5b580aa8"
   },
   "outputs": [
    {
     "data": {
      "text/plain": [
       "<matplotlib.axes._subplots.AxesSubplot at 0x7fa4e79a9710>"
      ]
     },
     "execution_count": 29,
     "metadata": {},
     "output_type": "execute_result"
    },
    {
     "data": {
      "image/png": "[encoded data removed]",
      "text/plain": [
       "<Figure size 432x288 with 1 Axes>"
      ]
     },
     "metadata": {},
     "output_type": "display_data"
    }
   ],
   "source": [
    "sns.histplot(time_of_accident, bins = 24)"
   ]
  },
  {
   "cell_type": "markdown",
   "metadata": {
    "id": "m60qn9CkdDqZ"
   },
   "source": [
    "In this plot we can observe at which time of day the maximum number of accidents were recorded."
   ]
  },
  {
   "cell_type": "code",
   "execution_count": 30,
   "metadata": {
    "executionInfo": {
     "elapsed": 420,
     "status": "ok",
     "timestamp": 1667239910404,
     "user": {
      "displayName": "Vimal V",
      "userId": "00084171580944688305"
     },
     "user_tz": -330
    },
    "id": "q9xPYqn4Yf5t"
   },
   "outputs": [],
   "source": [
    "day_of_accident = df.Start_Time.dt.dayofweek\n"
   ]
  },
  {
   "cell_type": "code",
   "execution_count": 31,
   "metadata": {
    "colab": {
     "base_uri": "https://localhost:8080/",
     "height": 297
    },
    "executionInfo": {
     "elapsed": 2086,
     "status": "ok",
     "timestamp": 1667239914300,
     "user": {
      "displayName": "Vimal V",
      "userId": "00084171580944688305"
     },
     "user_tz": -330
    },
    "id": "--lBYae3Yf9m",
    "outputId": "e539aee9-a70a-4f70-b855-99110e339204"
   },
   "outputs": [
    {
     "data": {
      "text/plain": [
       "<matplotlib.axes._subplots.AxesSubplot at 0x7fa4e79d6510>"
      ]
     },
     "execution_count": 31,
     "metadata": {},
     "output_type": "execute_result"
    },
    {
     "data": {
      "image/png": "[encoded data removed]",
      "text/plain": [
       "<Figure size 432x288 with 1 Axes>"
      ]
     },
     "metadata": {},
     "output_type": "display_data"
    }
   ],
   "source": [
    "sns.histplot(day_of_accident, bins=7)"
   ]
  },
  {
   "cell_type": "code",
   "execution_count": 32,
   "metadata": {
    "colab": {
     "base_uri": "https://localhost:8080/",
     "height": 298
    },
    "executionInfo": {
     "elapsed": 1262,
     "status": "ok",
     "timestamp": 1667239918776,
     "user": {
      "displayName": "Vimal V",
      "userId": "00084171580944688305"
     },
     "user_tz": -330
    },
    "id": "VhOfOz2vlZcZ",
    "outputId": "1eda474b-b32f-46aa-dee2-fa3d0d5e49c0"
   },
   "outputs": [
    {
     "data": {
      "text/plain": [
       "<matplotlib.axes._subplots.AxesSubplot at 0x7fa4e741e0d0>"
      ]
     },
     "execution_count": 32,
     "metadata": {},
     "output_type": "execute_result"
    },
    {
     "data": {
      "image/png": "[encoded data removed]",
      "text/plain": [
       "<Figure size 432x288 with 1 Axes>"
      ]
     },
     "metadata": {},
     "output_type": "display_data"
    }
   ],
   "source": [
    "monday_accident = df.Start_Time[df.Start_Time.dt.dayofweek == 0]\n",
    "sns.histplot(monday_accident.dt.hour, bins = 24)"
   ]
  },
  {
   "cell_type": "markdown",
   "metadata": {
    "id": "_Bgni2BxlsOQ"
   },
   "source": [
    "On Mondays.,We can observe that majority of accidents take place between 2 pm to 5 pm. "
   ]
  },
  {
   "cell_type": "code",
   "execution_count": 33,
   "metadata": {
    "colab": {
     "base_uri": "https://localhost:8080/",
     "height": 297
    },
    "executionInfo": {
     "elapsed": 1160,
     "status": "ok",
     "timestamp": 1667239923559,
     "user": {
      "displayName": "Vimal V",
      "userId": "00084171580944688305"
     },
     "user_tz": -330
    },
    "id": "z5Hu8ClCYgIz",
    "outputId": "0b489ab3-4bd7-4108-9341-3094167b6d4f"
   },
   "outputs": [
    {
     "data": {
      "text/plain": [
       "<matplotlib.axes._subplots.AxesSubplot at 0x7fa4e732dd10>"
      ]
     },
     "execution_count": 33,
     "metadata": {},
     "output_type": "execute_result"
    },
    {
     "data": {
      "image/png": "[encoded data removed]",
      "text/plain": [
       "<Figure size 432x288 with 1 Axes>"
      ]
     },
     "metadata": {},
     "output_type": "display_data"
    }
   ],
   "source": [
    "sunday_accident = df.Start_Time[df.Start_Time.dt.dayofweek == 6]\n",
    "sns.histplot(sunday_accident.dt.hour, bins = 24)"
   ]
  },
  {
   "cell_type": "code",
   "execution_count": 34,
   "metadata": {
    "colab": {
     "base_uri": "https://localhost:8080/",
     "height": 297
    },
    "executionInfo": {
     "elapsed": 1364,
     "status": "ok",
     "timestamp": 1667239929723,
     "user": {
      "displayName": "Vimal V",
      "userId": "00084171580944688305"
     },
     "user_tz": -330
    },
    "id": "x0G4ktq0YgPB",
    "outputId": "88c2e51f-f0c7-4cb2-b6bc-cff5e2a2ffff"
   },
   "outputs": [
    {
     "data": {
      "text/plain": [
       "<matplotlib.axes._subplots.AxesSubplot at 0x7fa4e7277910>"
      ]
     },
     "execution_count": 34,
     "metadata": {},
     "output_type": "execute_result"
    },
    {
     "data": {
      "image/png": "[encoded data removed]",
      "text/plain": [
       "<Figure size 432x288 with 1 Axes>"
      ]
     },
     "metadata": {},
     "output_type": "display_data"
    }
   ],
   "source": [
    "saturday_accident = df.Start_Time[df.Start_Time.dt.dayofweek == 5]\n",
    "sns.histplot(saturday_accident.dt.hour, bins = 24)"
   ]
  },
  {
   "cell_type": "markdown",
   "metadata": {
    "id": "PeqPAdJneYg1"
   },
   "source": [
    "We can see that there is change of event in accident taking place on Sundays. We can observe that accident takes place from 12pm to 3pm"
   ]
  },
  {
   "cell_type": "code",
   "execution_count": 35,
   "metadata": {
    "colab": {
     "base_uri": "https://localhost:8080/",
     "height": 297
    },
    "executionInfo": {
     "elapsed": 1947,
     "status": "ok",
     "timestamp": 1667239933594,
     "user": {
      "displayName": "Vimal V",
      "userId": "00084171580944688305"
     },
     "user_tz": -330
    },
    "id": "ECtgDl__YgRx",
    "outputId": "2d352f1b-cac9-4b6b-a90e-f5593190e37a"
   },
   "outputs": [
    {
     "data": {
      "text/plain": [
       "<matplotlib.axes._subplots.AxesSubplot at 0x7fa4e7a2cc10>"
      ]
     },
     "execution_count": 35,
     "metadata": {},
     "output_type": "execute_result"
    },
    {
     "data": {
      "image/png": "[encoded data removed]",
      "text/plain": [
       "<Figure size 432x288 with 1 Axes>"
      ]
     },
     "metadata": {},
     "output_type": "display_data"
    }
   ],
   "source": [
    "df_2019 = df.Start_Time[df.Start_Time.dt.year == 2019]\n",
    "sns.histplot (df_2019, bins = 12)\n"
   ]
  },
  {
   "cell_type": "markdown",
   "metadata": {
    "id": "B4fltZPss_TJ"
   },
   "source": [
    "Majority of accidents are reported mostly at the end of the year., usually at the winter season"
   ]
  },
  {
   "cell_type": "code",
   "execution_count": 36,
   "metadata": {
    "colab": {
     "base_uri": "https://localhost:8080/",
     "height": 297
    },
    "executionInfo": {
     "elapsed": 1951,
     "status": "ok",
     "timestamp": 1667239937545,
     "user": {
      "displayName": "Vimal V",
      "userId": "00084171580944688305"
     },
     "user_tz": -330
    },
    "id": "kA5_kS6PYgVB",
    "outputId": "74e20c05-4abd-4826-d77b-01ba958f4825"
   },
   "outputs": [
    {
     "data": {
      "text/plain": [
       "<matplotlib.axes._subplots.AxesSubplot at 0x7fa4e7afa110>"
      ]
     },
     "execution_count": 36,
     "metadata": {},
     "output_type": "execute_result"
    },
    {
     "data": {
      "image/png": "[encoded data removed]",
      "text/plain": [
       "<Figure size 432x288 with 1 Axes>"
      ]
     },
     "metadata": {},
     "output_type": "display_data"
    }
   ],
   "source": [
    "df_2016 = df.Start_Time[df.Start_Time.dt.year == 2016]\n",
    "sns.histplot (df_2016, bins = 11)"
   ]
  },
  {
   "cell_type": "markdown",
   "metadata": {
    "id": "MxBJjmNMpKP6"
   },
   "source": [
    "We can compare the accident report from the year 2016 and 2019. Based on the analysis we see that they are some missing values present in the year."
   ]
  },
  {
   "cell_type": "markdown",
   "metadata": {
    "id": "KJgnLloEtScl"
   },
   "source": [
    "### Start Latitude and Longitude"
   ]
  },
  {
   "cell_type": "code",
   "execution_count": 37,
   "metadata": {
    "executionInfo": {
     "elapsed": 992,
     "status": "ok",
     "timestamp": 1667239941537,
     "user": {
      "displayName": "Vimal V",
      "userId": "00084171580944688305"
     },
     "user_tz": -330
    },
    "id": "R8lvfh53tQe2"
   },
   "outputs": [],
   "source": [
    "y = df.Start_Lat"
   ]
  },
  {
   "cell_type": "code",
   "execution_count": 39,
   "metadata": {
    "executionInfo": {
     "elapsed": 14,
     "status": "ok",
     "timestamp": 1667239944985,
     "user": {
      "displayName": "Vimal V",
      "userId": "00084171580944688305"
     },
     "user_tz": -330
    },
    "id": "Ni2Ns7EZtQjW"
   },
   "outputs": [],
   "source": [
    "x = df.Start_Lng"
   ]
  },
  {
   "cell_type": "code",
   "execution_count": 40,
   "metadata": {
    "colab": {
     "base_uri": "https://localhost:8080/",
     "height": 354
    },
    "executionInfo": {
     "elapsed": 11207,
     "status": "ok",
     "timestamp": 1667239957644,
     "user": {
      "displayName": "Vimal V",
      "userId": "00084171580944688305"
     },
     "user_tz": -330
    },
    "id": "VPYJCEoxtQma",
    "outputId": "2e48ad2e-15da-4218-eb13-758592243986"
   },
   "outputs": [
    {
     "name": "stderr",
     "output_type": "stream",
     "text": [
      "/usr/local/lib/python3.7/dist-packages/seaborn/_decorators.py:43: FutureWarning: Pass the following variables as keyword args: x, y. From version 0.12, the only valid positional argument will be `data`, and passing other arguments without an explicit keyword will result in an error or misinterpretation.\n",
      "  FutureWarning\n"
     ]
    },
    {
     "data": {
      "text/plain": [
       "<matplotlib.axes._subplots.AxesSubplot at 0x7fa4e713b910>"
      ]
     },
     "execution_count": 40,
     "metadata": {},
     "output_type": "execute_result"
    },
    {
     "data": {
      "image/png": "[encoded data removed]",
      "text/plain": [
       "<Figure size 432x288 with 1 Axes>"
      ]
     },
     "metadata": {},
     "output_type": "display_data"
    }
   ],
   "source": [
    "sns.scatterplot (x, y)"
   ]
  },
  {
   "cell_type": "code",
   "execution_count": 74,
   "metadata": {
    "colab": {
     "base_uri": "https://localhost:8080/"
    },
    "executionInfo": {
     "elapsed": 537,
     "status": "ok",
     "timestamp": 1667241026582,
     "user": {
      "displayName": "Vimal V",
      "userId": "00084171580944688305"
     },
     "user_tz": -330
    },
    "id": "IVxrU3s1tQvS",
    "outputId": "b265e429-a731-47e4-f44e-fd07dadefcef"
   },
   "outputs": [
    {
     "data": {
      "text/plain": [
       "2    2532991\n",
       "3     155105\n",
       "4     131193\n",
       "1      26053\n",
       "Name: Severity, dtype: int64"
      ]
     },
     "execution_count": 74,
     "metadata": {},
     "output_type": "execute_result"
    }
   ],
   "source": [
    "no_of_casualities = df['Severity'].value_counts()\n",
    "no_of_casualities"
   ]
  },
  {
   "cell_type": "code",
   "execution_count": 95,
   "metadata": {
    "colab": {
     "base_uri": "https://localhost:8080/",
     "height": 307
    },
    "executionInfo": {
     "elapsed": 563,
     "status": "ok",
     "timestamp": 1667242204324,
     "user": {
      "displayName": "Vimal V",
      "userId": "00084171580944688305"
     },
     "user_tz": -330
    },
    "id": "gtR29aWHHcWY",
    "outputId": "caeb4520-7542-433d-8a5f-82b0a04d354d"
   },
   "outputs": [
    {
     "data": {
      "text/plain": [
       "<BarContainer object of 4 artists>"
      ]
     },
     "execution_count": 95,
     "metadata": {},
     "output_type": "execute_result"
    },
    {
     "data": {
      "image/png": "[encoded data removed]",
      "text/plain": [
       "<Figure size 432x288 with 1 Axes>"
      ]
     },
     "metadata": {
      "needs_background": "light"
     },
     "output_type": "display_data"
    }
   ],
   "source": [
    "import matplotlib.pyplot as plt\n",
    "%matplotlib inline\n",
    "x = [2,3,4,1]\n",
    "y = [2532991, 155105,131193,26053]\n",
    "\n",
    "plt.xlabel ('PEOPLE ONBOARD')\n",
    "plt.ylabel ('Total')\n",
    "plt.xticks ([1,2,3,4])\n",
    "plt.yticks ([700000,1400000,2100000,2800000])\n",
    "plt.bar (x,y, color = 'red')\n"
   ]
  },
  {
   "cell_type": "markdown",
   "metadata": {
    "id": "Ix-TQv833ldt"
   },
   "source": [
    "\n",
    "## Question and Answer\n",
    "\n",
    "1.   At what timerange the accidents are reported commonly?\n",
    "> On weekdays the majority of accident is expected to happen between 2pm to     5pm whereas on weekends it between to 12pm to 3pm\n",
    "\n",
    "2.   How the accidents distrubution vary for a particular year\n",
    "> Based on the plot analysis, majority of the accidents are said to happen at the winter season.\n",
    "\n",
    "3.   How many casualities are expected ?\n",
    ">  Majority of 2 people is the most comman scaenario that we have encounterd so far in the analysis.\n",
    "\n",
    "\n",
    "\n",
    "\n",
    "\n",
    "\n",
    "\n",
    "\n"
   ]
  },
  {
   "cell_type": "markdown",
   "metadata": {
    "id": "7bBsNxn43hJH"
   },
   "source": [
    "## Summary and Conclusions\n",
    "- New York city is not included in this dataset.\n",
    "- Around 4% of city have recorded more than 1000 accidents per year\n",
    "- There is no city city with 0 accident recorded."
   ]
  },
  {
   "cell_type": "code",
   "execution_count": 112,
   "metadata": {
    "executionInfo": {
     "elapsed": 437,
     "status": "ok",
     "timestamp": 1667243589281,
     "user": {
      "displayName": "Vimal V",
      "userId": "00084171580944688305"
     },
     "user_tz": -330
    },
    "id": "5_1MFt8ISs-c"
   },
   "outputs": [],
   "source": [
    "import jovian"
   ]
  },
  {
   "cell_type": "code",
   "execution_count": null,
   "metadata": {
    "colab": {
     "base_uri": "https://localhost:8080/"
    },
    "id": "82ZI4NxvStB5",
    "outputId": "806ec130-fba7-4abe-98f2-34b98c56e672"
   },
   "outputs": [
    {
     "name": "stdout",
     "output_type": "stream",
     "text": [
      "[jovian] Detected Colab notebook...\u001b[0m\n",
      "[jovian] Please enter your API key ( from https://jovian.ai/ ):\u001b[0m\n",
      "API KEY: "
     ]
    }
   ],
   "source": [
    "jovian.commit()"
   ]
  }
 ],
 "metadata": {
  "colab": {
   "collapsed_sections": [],
   "provenance": []
  },
  "kernelspec": {
   "display_name": "Python 3 (ipykernel)",
   "language": "python",
   "name": "python3"
  },
  "language_info": {
   "codemirror_mode": {
    "name": "ipython",
    "version": 3
   },
   "file_extension": ".py",
   "mimetype": "text/x-python",
   "name": "python",
   "nbconvert_exporter": "python",
   "pygments_lexer": "ipython3",
   "version": "3.9.6"
  }
 },
 "nbformat": 4,
 "nbformat_minor": 1
}
